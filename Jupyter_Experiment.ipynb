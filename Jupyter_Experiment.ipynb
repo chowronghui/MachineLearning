{
  "nbformat": 4,
  "nbformat_minor": 0,
  "metadata": {
    "colab": {
      "name": "Jupyter Experiment.ipynb",
      "provenance": [],
      "authorship_tag": "ABX9TyP+tgeoNnr0t5X4GP6bfGoF",
      "include_colab_link": true
    },
    "kernelspec": {
      "name": "python3",
      "display_name": "Python 3"
    }
  },
  "cells": [
    {
      "cell_type": "markdown",
      "metadata": {
        "id": "view-in-github",
        "colab_type": "text"
      },
      "source": [
        "<a href=\"https://colab.research.google.com/github/chowronghui/MachineLearning/blob/main/Jupyter_Experiment.ipynb\" target=\"_parent\"><img src=\"https://colab.research.google.com/assets/colab-badge.svg\" alt=\"Open In Colab\"/></a>"
      ]
    },
    {
      "cell_type": "markdown",
      "metadata": {
        "id": "lpbgNS5ZTsu4"
      },
      "source": [
        "Quadratic Equation"
      ]
    },
    {
      "cell_type": "markdown",
      "metadata": {
        "id": "GMqnbKEFTyrQ"
      },
      "source": [
        "In algebra, a quadratic equation (from the Latin quadratus for \"square\") is any equation that can be rearranged in standard form as\n",
        "\n",
        "# ax^{2}+bx+c=0}\n",
        "\n",
        "where x represents an unknown, and a, b, and c represent known numbers, where a ≠ 0. If a = 0, then the equation is linear, not quadratic, as there is no {\\displaystyle ax^{2}}ax^2 term. The numbers a, b, and c are the coefficients of the equation and may be distinguished by calling them, respectively, the quadratic coefficient, the linear coefficient and the constant or free term"
      ]
    },
    {
      "cell_type": "code",
      "metadata": {
        "id": "pkT1NOKTS40Q",
        "outputId": "552b120e-10d7-4d50-f1e3-84ec584455a9",
        "colab": {
          "base_uri": "https://localhost:8080/"
        }
      },
      "source": [
        "print('Table of sqaures')\n",
        "for i in range (10):\n",
        "  print(f'{i} times {i} = {i*i}')\n",
        "\n",
        "%time"
      ],
      "execution_count": 8,
      "outputs": [
        {
          "output_type": "stream",
          "text": [
            "Table of sqaures\n",
            "0 times 0 = 0\n",
            "1 times 1 = 1\n",
            "2 times 2 = 4\n",
            "3 times 3 = 9\n",
            "4 times 4 = 16\n",
            "5 times 5 = 25\n",
            "6 times 6 = 36\n",
            "7 times 7 = 49\n",
            "8 times 8 = 64\n",
            "9 times 9 = 81\n",
            "CPU times: user 2 µs, sys: 0 ns, total: 2 µs\n",
            "Wall time: 6.44 µs\n"
          ],
          "name": "stdout"
        }
      ]
    },
    {
      "cell_type": "code",
      "metadata": {
        "id": "tUqVqVr7TqWl"
      },
      "source": [
        ""
      ],
      "execution_count": null,
      "outputs": []
    }
  ]
}