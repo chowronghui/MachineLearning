{
 "cells": [
  {
   "cell_type": "markdown",
   "metadata": {},
   "source": [
    "<h1 style=\"text-align: center;\">Equipment Anomaly Detection Exercise</h1><br>\n",
    "\n",
    "![alt text](img/ep_anomaly.jpg \"Equipment Anomaly\")\n",
    "\n",
    "<p>This is a set of real data collected over time which is unlabelled comprising various parameters to determine the condition of a group of equipment (3 types but of different makes coming from different suppliers in the form of equipment ID).</p>\n",
    "    <p>The type of equipment is an important factor to consider to see which are the normal ones and which are the one that need to be monitored with suspected unhealthy conditions.The equipment of the same type will have the similar behavious but they are not so important in the outcome which we want to see.</p>\n",
    "    <p>Also,we would like to know if there is any correlation among the parameters in a way a change in one parameter will affect another.</p>\n",
    "<p>The PD average magnitude and PD count measures the equipment health and they can be affected by the other parameters(as shown) in which the equipment are operating in.</p>\n",
    "<p>requirement to run this notebook:</p>\n",
    "<ul>\n",
    "    <li>Python=3.7.9</li>\n",
    "    <li>pandas=1.1.4</li>\n",
    "    <li>numpy=1.18.5</li>\n",
    "    <li>matplotlib=3.3.2</li>\n",
    "    <li>seaborn=0.11.0</li>\n",
    "    <li>sklearn=0.23.2</li>\n",
    "    <li>tensorflow=2.3.0</li>\n",
    "</ul>"
   ]
  },
  {
   "cell_type": "code",
   "execution_count": 1,
   "metadata": {
    "scrolled": true
   },
   "outputs": [],
   "source": [
    "import pandas as pd\n",
    "import numpy as np\n",
    "import matplotlib.pyplot as plt\n",
    "PD_df = pd.read_csv(r'dataset/PD_data.csv') #read in dataset as pandas dataframe"
   ]
  },
  {
   "cell_type": "markdown",
   "metadata": {},
   "source": [
    "<h3>Drop Equipment ID Columns</h3>\n",
    "<p><b>Equipment ID is an indicator to indentify which row of data belongs to which equipment in physical. Hence, it does not provides insight of an anomaly activity among all the features. It will be just an noisy column and we will just drop this for the moment.</b></p>"
   ]
  },
  {
   "cell_type": "code",
   "execution_count": 2,
   "metadata": {},
   "outputs": [
    {
     "name": "stdout",
     "output_type": "stream",
     "text": [
      "     PD Average  PD Count  Temperature  Humidity  Loading\n",
      "0        424.19        19         27.0      56.0    250.0\n",
      "1        565.25        12         27.0      56.0    250.0\n",
      "2       1881.07         6         29.2      71.6    300.0\n",
      "3        774.28        14         26.3      71.5    585.0\n",
      "4        502.98        20         27.2      62.4    700.0\n",
      "5       3202.67        13         32.0      51.3    850.0\n",
      "6       3032.09        14         32.0      51.3    850.0\n",
      "7       3709.10        13         32.0      51.3    850.0\n",
      "8       1011.00        20         30.1      59.6     15.0\n",
      "9       1060.00        28         30.1      59.6      5.0\n",
      "10      1100.00        11         30.1      59.6      5.0\n",
      "11       964.00        15         30.1      59.6     15.0\n",
      "12      1366.03        28         30.4      67.6   1641.0\n",
      "13       611.56        45         31.5      60.5    227.0\n",
      "14      1144.09        22         30.4      64.3     49.0\n",
      "15      2288.51         2         35.0      70.0    236.0\n",
      "16       973.76         5         35.0      70.0    236.0\n",
      "17       735.74         7         35.0      70.0    236.0\n",
      "18      1160.13         7         35.0      70.0    236.0\n",
      "19       442.73        62         31.1      66.4      4.0\n",
      "20       508.23        15         31.1      66.4      4.0\n",
      "21      1710.14         5         31.9      71.9    400.0\n",
      "22      2727.02        16         35.5      44.0     30.0\n",
      "23       509.04        13         29.8      68.1     10.0\n",
      "24       548.70        22         28.7      73.3     53.0\n",
      "25       920.69        16         25.5      58.5    900.0\n",
      "26      1000.35        42         25.5      58.5    900.0\n",
      "27       525.63        23         25.5      58.5     70.0\n",
      "28       734.70         4         25.5      58.5     70.0\n",
      "29      1087.77        26         25.5      58.5    900.0\n",
      "..          ...       ...          ...       ...      ...\n",
      "529      115.29        14         30.0      69.3      3.0\n",
      "530      114.99        13         30.0      69.3      3.0\n",
      "531      109.11         6         30.0      69.3      5.0\n",
      "532      115.46         6         30.0      69.3      5.0\n",
      "533      115.28         7         30.0      69.3      2.0\n",
      "534      117.24        26         30.0      69.3      2.0\n",
      "535      180.05         5         30.0      69.3      1.0\n",
      "536       94.36        24         30.0      69.3      1.0\n",
      "537      177.49         7         30.0      69.3      1.0\n",
      "538       97.63        26         30.0      69.3      1.0\n",
      "539      191.84         6         30.0      69.3      1.0\n",
      "540       91.43        21         30.0      69.3      1.0\n",
      "541      181.74         3         30.0      69.3     30.0\n",
      "542      109.37        14         30.0      69.3     30.0\n",
      "543      120.87        19         30.0      69.3      6.0\n",
      "544       96.81        10         30.0      69.3      6.0\n",
      "545       87.47        22         30.6      56.7     74.0\n",
      "546       87.55         8         30.6      56.7     74.0\n",
      "547       99.70        16         30.6      56.7      0.0\n",
      "548       88.36        17         30.6      56.7      0.0\n",
      "549      114.66        19         30.6      56.7     21.0\n",
      "550       92.49        23         30.6      56.7     21.0\n",
      "551       95.13        12         32.0      61.7      5.0\n",
      "552       86.94         3         32.0      61.7      5.0\n",
      "553      117.56        18         32.0      61.7      4.0\n",
      "554       95.17         9         32.0      61.7      4.0\n",
      "555      110.22         9         32.0      61.7     51.0\n",
      "556       87.93         2         32.0      61.7     51.0\n",
      "557       85.37        13         32.0      61.7      9.0\n",
      "558       87.32        12         32.0      61.7      9.0\n",
      "\n",
      "[559 rows x 5 columns]\n"
     ]
    }
   ],
   "source": [
    "df = PD_df.drop('Equipment ID', 1)\n",
    "print(df)"
   ]
  },
  {
   "cell_type": "markdown",
   "metadata": {},
   "source": [
    "<h3>Find the correlation between each features</h3>\n",
    "<p>Correlation is a term that is a measure of the strength of a linear relationship between two quantitative variables. In other words, it's how two variables move in relation to one another. There are several terms that apply in correlations.</p>\n",
    "<ol>\n",
    "    <li>Positive correlation</li>\n",
    "    <li>Negative correlation</li>\n",
    "    <li>Zero Correlation</li>\n",
    "</ol>\n",
    "<p>These 3 terms describe how's correlation work in describing the relation of 2 variables.</p>"
   ]
  },
  {
   "cell_type": "code",
   "execution_count": 3,
   "metadata": {},
   "outputs": [
    {
     "name": "stdout",
     "output_type": "stream",
     "text": [
      "             PD Average  PD Count  Temperature  Humidity   Loading\n",
      "PD Average     1.000000  0.283660     0.123917 -0.069950  0.323888\n",
      "PD Count       0.283660  1.000000     0.074758 -0.096785  0.261152\n",
      "Temperature    0.123917  0.074758     1.000000 -0.192906  0.041949\n",
      "Humidity      -0.069950 -0.096785    -0.192906  1.000000 -0.271953\n",
      "Loading        0.323888  0.261152     0.041949 -0.271953  1.000000\n",
      "\n",
      "\n"
     ]
    },
    {
     "data": {
      "image/png": "[encoded data removed]",
      "text/plain": [
       "<Figure size 432x288 with 2 Axes>"
      ]
     },
     "metadata": {},
     "output_type": "display_data"
    }
   ],
   "source": [
    "import seaborn as sns\n",
    "print(df.corr('pearson'))\n",
    "print('\\n')\n",
    "sns.heatmap(df.corr('pearson'), annot=True)\n",
    "plt.show()"
   ]
  },
  {
   "cell_type": "markdown",
   "metadata": {},
   "source": [
    "<p>In the graph above, we can observe that:</p>\n",
    "<ul>\n",
    "<li>Each variable does not really have a strong correlation with another variable.(correlation values are lower than ±0.5</li>\n",
    "<li>The highest positive correlation value is only 0.32. ('Loading' & 'PD Average' variable)</li>\n",
    "<li>The lowest negative correlation value is -0.27. ('Humidity' & 'Loading')</li>\n",
    "<li>'PD Average' & 'PD Count' have some minor positive correlation with 'Loading' parameters.</li>\n",
    "</ul>\n",
    "<p><b><i>Hence, we can make an hypothesis that when 'Loading' parameters value increases, 'PDAverage' & 'PD Count' values will have the likelihood to increase. 'PD Average' have higherprobability to increase compared to 'PD count'. Both 'PD Average' & 'PD Count' parametersprobability of increasing is not high due to the correlation value (with 'Loading') are lessthan or equal to 0.32.</i></b></p>"
   ]
  },
  {
   "cell_type": "markdown",
   "metadata": {},
   "source": [
    "<h3>Check for null value</h3>\n",
    "<p>Before furthur analysis action, it is important to check whether is there any null or NaN value is in the dataset. We would want to drop the row that are involving empty value.</p>\n",
    "<p>Fortunately, the dataset does not involve any empty value.</p>"
   ]
  },
  {
   "cell_type": "code",
   "execution_count": 4,
   "metadata": {},
   "outputs": [
    {
     "data": {
      "text/plain": [
       "PD Average     0\n",
       "PD Count       0\n",
       "Temperature    0\n",
       "Humidity       0\n",
       "Loading        0\n",
       "dtype: int64"
      ]
     },
     "execution_count": 4,
     "metadata": {},
     "output_type": "execute_result"
    }
   ],
   "source": [
    "df.isnull().sum()"
   ]
  },
  {
   "cell_type": "markdown",
   "metadata": {},
   "source": [
    "<h3>Standardize to 0 mean and 1.0 variance</h3>\n",
    "\n",
    "![alt text](img/standardization.jpeg \"Standardization\") \n",
    "\n",
    "<h6>What is Standardization ?</h6>\n",
    "<p>“Standardizing” a vector most often means subtracting a measure of location and dividing by a measure of scale. For example, if the vector contains random values with a Gaussian distribution, you might subtract the mean and divide by the standard deviation, thereby obtaining a “standard normal” random variable with mean 0 and standard deviation 1.</p>\n",
    "<h6>Why Standardization ?</h6>\n",
    "<p>Standardizing the features around the center and 0 with a standard deviation of 1 is important when we compare measurements that have different units. Variables that are measured at different scales do not contribute equally to the analysis and might end up creating a bias.For example, A variable that ranges between 0 and 1000 will outweigh a variable that ranges between 0 and 1. Using these variables without standardization will give the variable with the larger range weight of 1000 in the analysis. Transforming the data to comparable scales can prevent this problem. Typical data standardization procedures equalize the range and/or data variability.</p>\n",
    "<h6>When to use Standardization ?</h6>\n",
    "<p>Standardization is useful when your data has varying scales and the algorithm you are using does make assumptions about your data having a Gaussian distribution, such as linear regression, logistic regression, and K-Means Clustering.</p>\n",
    "<p>In order to perform standardization of each columns, there are few information we need to get from pandas dataframe.</p>"
   ]
  },
  {
   "cell_type": "markdown",
   "metadata": {},
   "source": [
    "<h6>The description of each features.</h6>"
   ]
  },
  {
   "cell_type": "code",
   "execution_count": 5,
   "metadata": {},
   "outputs": [
    {
     "name": "stdout",
     "output_type": "stream",
     "text": [
      "count     559.000000\n",
      "mean      683.493864\n",
      "std       730.720851\n",
      "min        35.610000\n",
      "25%       106.835000\n",
      "50%       323.740000\n",
      "75%      1137.920000\n",
      "max      4891.420000\n",
      "Name: PD Average, dtype: float64\n",
      "\n",
      "\n",
      "count    559.000000\n",
      "mean      14.395349\n",
      "std       10.286194\n",
      "min        1.000000\n",
      "25%        7.000000\n",
      "50%       12.000000\n",
      "75%       18.000000\n",
      "max       66.000000\n",
      "Name: PD Count, dtype: float64\n",
      "\n",
      "\n",
      "count    559.000000\n",
      "mean      29.149374\n",
      "std        3.480390\n",
      "min       21.900000\n",
      "25%       25.700000\n",
      "50%       29.400000\n",
      "75%       32.000000\n",
      "max       39.900000\n",
      "Name: Temperature, dtype: float64\n",
      "\n",
      "\n",
      "count    559.000000\n",
      "mean      60.695832\n",
      "std       12.083263\n",
      "min       37.180000\n",
      "25%       52.890000\n",
      "50%       61.100000\n",
      "75%       68.550000\n",
      "max       87.900000\n",
      "Name: Humidity, dtype: float64\n",
      "\n",
      "\n",
      "count     559.000000\n",
      "mean      350.438927\n",
      "std       624.791790\n",
      "min         0.000000\n",
      "25%         5.000000\n",
      "50%        27.170000\n",
      "75%       457.000000\n",
      "max      2459.000000\n",
      "Name: Loading, dtype: float64\n"
     ]
    }
   ],
   "source": [
    "print(df['PD Average'].describe())\n",
    "print('\\n')\n",
    "print(df['PD Count'].describe())\n",
    "print('\\n')\n",
    "print(df['Temperature'].describe())\n",
    "print('\\n')\n",
    "print(df['Humidity'].describe())\n",
    "print('\\n')\n",
    "print(df['Loading'].describe())"
   ]
  },
  {
   "cell_type": "markdown",
   "metadata": {},
   "source": [
    "<h3>Standardize each columns</h3>\n",
    "<p><b>Here we will standardize each columns values by compressing in to range of -1 to 1.</b></p>"
   ]
  },
  {
   "cell_type": "code",
   "execution_count": 6,
   "metadata": {},
   "outputs": [
    {
     "name": "stdout",
     "output_type": "stream",
     "text": [
      "     PD Average  PD Count  Temperature  Humidity   Loading\n",
      "0     -0.355178  0.448054    -0.618120 -0.388971 -0.160900\n",
      "1     -0.161963 -0.233079    -0.618120 -0.388971 -0.160900\n",
      "2      1.640365 -0.816907     0.014559  0.903227 -0.080801\n",
      "3      0.124353 -0.038469    -0.819427  0.894944  0.375759\n",
      "4     -0.247257  0.545359    -0.560604  0.141162  0.559985\n",
      "5      3.450610 -0.135774     0.819787 -0.778287  0.800280\n",
      "6      3.216960 -0.038469     0.819787 -0.778287  0.800280\n",
      "7      4.144286 -0.135774     0.819787 -0.778287  0.800280\n",
      "8      0.448597  0.545359     0.273382 -0.090771 -0.537362\n",
      "9      0.515715  1.323797     0.273382 -0.090771 -0.553382\n",
      "10     0.570504 -0.330384     0.273382 -0.090771 -0.553382\n",
      "11     0.384220  0.058835     0.273382 -0.090771 -0.537362\n",
      "12     0.934895  1.323797     0.359657  0.571895  2.067436\n",
      "13    -0.098531  2.977978     0.675997 -0.016221 -0.197745\n",
      "14     0.630896  0.739969     0.359657  0.298545 -0.482895\n",
      "15     2.198451 -1.206126     1.682532  0.770694 -0.183327\n",
      "16     0.397588 -0.914212     1.682532  0.770694 -0.183327\n",
      "17     0.071563 -0.719603     1.682532  0.770694 -0.183327\n",
      "18     0.652866 -0.719603     1.682532  0.770694 -0.183327\n",
      "19    -0.329783  4.632159     0.560964  0.472495 -0.554984\n",
      "20    -0.240065  0.058835     0.560964  0.472495 -0.554984\n",
      "21     1.406236 -0.914212     0.791029  0.928077  0.079395\n",
      "22     2.799094  0.156140     1.826322 -1.382970 -0.513332\n",
      "23    -0.238956 -0.135774     0.187108  0.613311 -0.545372\n",
      "24    -0.184632  0.739969    -0.129232  1.044044 -0.476487\n",
      "25     0.324896  0.156140    -1.049492 -0.181888  0.880379\n",
      "26     0.434010  2.686064    -1.049492 -0.181888  0.880379\n",
      "27    -0.216232  0.837274    -1.049492 -0.181888 -0.449254\n",
      "28     0.070139 -1.011517    -1.049492 -0.181888 -0.449254\n",
      "29     0.553752  1.129188    -1.049492 -0.181888  0.880379\n",
      "..          ...       ...          ...       ...       ...\n",
      "529   -0.778290 -0.038469     0.244624  0.712711 -0.556586\n",
      "530   -0.778701 -0.135774     0.244624  0.712711 -0.556586\n",
      "531   -0.786755 -0.816907     0.244624  0.712711 -0.553382\n",
      "532   -0.778057 -0.816907     0.244624  0.712711 -0.553382\n",
      "533   -0.778304 -0.719603     0.244624  0.712711 -0.558188\n",
      "534   -0.775619  1.129188     0.244624  0.712711 -0.558188\n",
      "535   -0.689586 -0.914212     0.244624  0.712711 -0.559790\n",
      "536   -0.806959  0.934578     0.244624  0.712711 -0.559790\n",
      "537   -0.693092 -0.719603     0.244624  0.712711 -0.559790\n",
      "538   -0.802480  1.129188     0.244624  0.712711 -0.559790\n",
      "539   -0.673437 -0.816907     0.244624  0.712711 -0.559790\n",
      "540   -0.810972  0.642664     0.244624  0.712711 -0.559790\n",
      "541   -0.687271 -1.108822     0.244624  0.712711 -0.513332\n",
      "542   -0.786399 -0.038469     0.244624  0.712711 -0.513332\n",
      "543   -0.770647  0.448054     0.244624  0.712711 -0.551780\n",
      "544   -0.803603 -0.427688     0.244624  0.712711 -0.551780\n",
      "545   -0.816396  0.739969     0.417173 -0.330988 -0.442846\n",
      "546   -0.816287 -0.622298     0.417173 -0.330988 -0.442846\n",
      "547   -0.799644  0.156140     0.417173 -0.330988 -0.561391\n",
      "548   -0.815177  0.253445     0.417173 -0.330988 -0.561391\n",
      "549   -0.779153  0.448054     0.417173 -0.330988 -0.527750\n",
      "550   -0.809520  0.837274     0.417173 -0.330988 -0.527750\n",
      "551   -0.805904 -0.233079     0.819787  0.083178 -0.553382\n",
      "552   -0.817122 -1.108822     0.819787  0.083178 -0.553382\n",
      "553   -0.775181  0.350750     0.819787  0.083178 -0.554984\n",
      "554   -0.805849 -0.524993     0.819787  0.083178 -0.554984\n",
      "555   -0.785235 -0.524993     0.819787  0.083178 -0.479691\n",
      "556   -0.815766 -1.206126     0.819787  0.083178 -0.479691\n",
      "557   -0.819273 -0.135774     0.819787  0.083178 -0.546974\n",
      "558   -0.816602 -0.233079     0.819787  0.083178 -0.546974\n",
      "\n",
      "[559 rows x 5 columns]\n"
     ]
    },
    {
     "name": "stderr",
     "output_type": "stream",
     "text": [
      "C:\\ProgramData\\Anaconda3\\lib\\site-packages\\sklearn\\utils\\validation.py:475: DataConversionWarning: Data with input dtype int64 was converted to float64 by StandardScaler.\n",
      "  warnings.warn(msg, DataConversionWarning)\n",
      "C:\\ProgramData\\Anaconda3\\lib\\site-packages\\sklearn\\utils\\validation.py:475: DataConversionWarning: Data with input dtype int64 was converted to float64 by StandardScaler.\n",
      "  warnings.warn(msg, DataConversionWarning)\n"
     ]
    }
   ],
   "source": [
    "from sklearn.preprocessing import StandardScaler\n",
    "df['PD Average'] = StandardScaler().fit_transform(df['PD Average'].values.reshape(-1, 1))\n",
    "df['PD Count'] = StandardScaler().fit_transform(df['PD Count'].values.reshape(-1, 1))\n",
    "df['Temperature'] = StandardScaler().fit_transform(df['Temperature'].values.reshape(-1, 1))\n",
    "df['Humidity'] = StandardScaler().fit_transform(df['Humidity'].values.reshape(-1, 1))\n",
    "df['Loading'] = StandardScaler().fit_transform(df['Loading'].values.reshape(-1, 1))\n",
    "print(df)"
   ]
  },
  {
   "cell_type": "markdown",
   "metadata": {},
   "source": [
    "<h3>Principal Component Analysis</h3>\n",
    "\n",
    "![alt text](img/PCA2.png \"Principla Component Analysis\")\n",
    "\n",
    "<h6>What is PCA ?</h6>\n",
    "<p>PCA is a method used to reduce number of variables in your data by extracting important one from a large pool. It reduces the dimension of your data with the aim of retaining as much information as possible. In other words, this method combines highly correlated variables together to form a smaller number of an artificial set of variables which is called “principal components” that account for most variance in the data.</p>\n",
    "<h6>When to use PCA ?</h6>\n",
    "<ol>\n",
    "    <li>When you want to reduce the number of variables, but aren’t able to identify variables to completely remove from consideration.</li>\n",
    "    <li>Want to ensure your variables are independent of one another.</li>\n",
    "    <li>Want to make your independent variables less interpretable.</li>\n",
    "</ol>\n",
    "<h6>Why use PCA in current dataset?</h6>\n",
    "<p>From the dataset provided, there are around 5 features provided. In order to have a clearer view of data distribution, PCA helps in:</p>\n",
    "<ol>\n",
    "    <li>Reduce the current dataset dimension from 5 to 3. Hence we able to have a clear view of how current dataset distribution in 3D graph.</li>\n",
    "    <li>Reduce the current dataset dimension from 5 to 1. Hence, we able to calculate the distance of each points to identify the outlier that exists in the dataset.</li>\n",
    "</ol>"
   ]
  },
  {
   "cell_type": "code",
   "execution_count": 7,
   "metadata": {},
   "outputs": [
    {
     "name": "stdout",
     "output_type": "stream",
     "text": [
      "            0         1         2\n",
      "0   -0.072901  0.203069 -0.549959\n",
      "1   -0.295322  0.031585 -0.632741\n",
      "2    0.059328  0.738545  0.868082\n",
      "3   -0.311273  1.131365 -0.172954\n",
      "4    0.235340  0.635071 -0.476810\n",
      "5    2.643995  0.169992  0.848798\n",
      "6    2.571290  0.129144  0.795076\n",
      "7    2.995732  0.389982  1.069470\n",
      "8    0.296289  0.022931  0.606396\n",
      "9    0.687675  0.308041  0.799227\n",
      "10  -0.062641 -0.239855  0.466339\n",
      "11   0.034793 -0.163742  0.482882\n",
      "12   2.109488  1.121805  0.253368\n",
      "13   1.428530  0.504264  1.102498\n",
      "14   0.383383  0.321097  0.943373\n",
      "15   0.598501 -0.407577  1.996568\n",
      "16  -0.177337 -0.878942  1.485499\n",
      "17  -0.251111 -0.915834  1.422998\n",
      "18   0.043646 -0.731482  1.607922\n",
      "19   1.674151  1.303658  1.711671\n",
      "20  -0.431571 -0.230700  0.771688\n",
      "21   0.180365  0.155044  1.213735\n",
      "22   2.229579 -1.126822  1.567699\n",
      "23  -0.671121  0.031808  0.563363\n",
      "24  -0.443864  0.813412  0.763687\n",
      "25   0.512578  0.864367 -0.991120\n",
      "26   1.757938  1.763505 -0.420630\n",
      "27  -0.172638  0.744087 -0.469200\n",
      "28  -0.897070  0.203131 -0.769631\n",
      "29   1.086327  1.269458 -0.712248\n",
      "..        ...       ...       ...\n",
      "529 -0.927917 -0.088430  0.506065\n",
      "530 -0.973896 -0.121811  0.485327\n",
      "531 -1.296611 -0.356688  0.337192\n",
      "532 -1.292201 -0.353929  0.339959\n",
      "533 -1.249199 -0.321412  0.362474\n",
      "534 -0.378198  0.311214  0.754859\n",
      "535 -1.296635 -0.359997  0.350146\n",
      "536 -0.486511  0.234554  0.704338\n",
      "537 -1.206872 -0.294607  0.390244\n",
      "538 -0.392699  0.302477  0.746977\n",
      "539 -1.242676 -0.321625  0.375890\n",
      "540 -0.625857  0.133528  0.641241\n",
      "541 -1.361453 -0.419427  0.290458\n",
      "542 -0.908242 -0.085100  0.485599\n",
      "543 -0.692546  0.080906  0.609543\n",
      "544 -1.121191 -0.228807  0.413597\n",
      "545 -0.070839 -0.531473  0.170817\n",
      "546 -0.711570 -0.996957 -0.117644\n",
      "547 -0.402161 -0.741844  0.101525\n",
      "548 -0.364266 -0.713519  0.117190\n",
      "549 -0.235958 -0.631001  0.155953\n",
      "550 -0.068274 -0.507627  0.228720\n",
      "551 -0.636083 -0.903707  0.488406\n",
      "552 -1.053706 -1.206527  0.299375\n",
      "553 -0.346763 -0.694675  0.622483\n",
      "554 -0.774248 -1.003662  0.427265\n",
      "555 -0.722389 -0.986851  0.402689\n",
      "556 -1.058264 -1.229293  0.248728\n",
      "557 -0.593568 -0.873821  0.502110\n",
      "558 -0.637984 -0.906226  0.482353\n",
      "\n",
      "[559 rows x 3 columns]\n"
     ]
    }
   ],
   "source": [
    "from sklearn.decomposition import PCA\n",
    "import copy\n",
    "df_reduce = copy.deepcopy(df)\n",
    "pca = PCA(3) # compressed 5 dimension to 3\n",
    "pca.fit(df_reduce)\n",
    "\n",
    "newdf = pd.DataFrame(pca.transform(df_reduce))\n",
    "print(newdf)"
   ]
  },
  {
   "cell_type": "markdown",
   "metadata": {},
   "source": [
    "<h3>K-Means Clustering</h3> \n",
    "\n",
    "![alt text](img/k_means2.png \"K means Algorithm\")\n",
    "\n",
    "<h6>What is K-Means Clustering ?</h6>\n",
    "<p>K-means clustering is a type of unsupervised learning, which is used when you have unlabeled data (i.e., data without defined categories or groups). The goal of this algorithm is to find groups in the data, with the number of groups represented by the variable K. The algorithm works iteratively to assign each data point to one of K groups based on the features that are provided. Data points are clustered based on feature similarity.</p>\n",
    "<h6>Why K-Means Clustering ?</h6>\n",
    "<p>The K-means clustering algorithm is used to find groups which have not been explicitly labeled in the data. This can be used to confirm business assumptions about what types of groups exist or to identify unknown groups in complex data sets. Once the algorithm has been run and the groups are defined, any new data can be easily assigned to the correct group.</p>\n",
    "<p><b>From the description of Mr.Leong, The dataset should consist of 3 different group & each type of equipment should have the similar behaviour. Hence, i can leverage k-means clustering method to cluster each group without any label provided.</b></p>"
   ]
  },
  {
   "cell_type": "code",
   "execution_count": 8,
   "metadata": {},
   "outputs": [
    {
     "data": {
      "text/plain": [
       "KMeans(algorithm='auto', copy_x=True, init='k-means++', max_iter=300,\n",
       "    n_clusters=3, n_init=10, n_jobs=1, precompute_distances='auto',\n",
       "    random_state=None, tol=0.0001, verbose=0)"
      ]
     },
     "execution_count": 8,
     "metadata": {},
     "output_type": "execute_result"
    }
   ],
   "source": [
    "from sklearn.cluster import KMeans \n",
    "\n",
    "c_newdf = copy.deepcopy(newdf)\n",
    "\n",
    "KM = KMeans(n_clusters=3) #from 3 diffrent supplier\n",
    "KM.fit(c_newdf)"
   ]
  },
  {
   "cell_type": "code",
   "execution_count": 9,
   "metadata": {},
   "outputs": [
    {
     "name": "stdout",
     "output_type": "stream",
     "text": [
      "[1 1 1 1 1 2 2 2 0 2 0 0 2 2 0 0 0 0 0 2 0 0 2 1 1 1 2 1 1 2 2 2 2 2 2 2 2\n",
      " 2 2 2 2 2 2 2 2 2 2 2 2 2 2 2 1 1 1 2 1 1 2 1 2 1 2 1 2 2 2 2 2 2 2 2 2 2\n",
      " 1 1 1 1 1 1 1 1 0 0 2 2 2 2 2 2 2 2 1 2 2 2 1 0 1 2 1 1 0 1 0 0 2 0 0 0 0\n",
      " 2 0 0 0 2 0 1 1 2 0 2 1 0 0 0 0 0 2 0 0 0 0 1 1 1 2 1 2 2 2 2 2 0 0 0 0 2\n",
      " 2 2 2 2 2 2 2 0 0 0 0 0 0 0 1 1 2 0 0 2 2 2 0 0 0 0 2 2 2 2 2 1 1 1 1 1 1\n",
      " 1 1 1 1 1 1 1 1 1 1 1 1 1 1 1 1 0 1 1 2 0 1 2 2 2 2 2 2 2 2 2 2 2 2 2 2 2\n",
      " 2 2 2 2 2 2 2 2 2 2 1 1 1 1 1 1 1 1 1 1 1 1 1 1 2 2 2 1 1 0 1 1 1 2 2 0 0\n",
      " 1 0 0 0 1 1 1 1 1 1 1 1 0 0 0 0 1 1 0 0 0 1 0 1 1 1 1 0 0 0 0 0 0 0 0 0 0\n",
      " 0 0 0 0 0 0 0 0 0 0 0 0 0 0 0 0 0 0 0 0 0 0 0 0 0 0 0 0 0 0 0 0 0 0 0 0 0\n",
      " 0 0 0 0 0 0 0 0 0 1 1 1 1 1 1 1 1 1 1 1 1 1 1 1 1 1 1 1 1 1 1 1 1 1 1 1 1\n",
      " 1 1 1 1 1 1 1 1 1 1 1 1 1 1 1 1 1 1 1 1 1 1 1 1 1 1 1 1 1 1 1 1 1 1 1 1 1\n",
      " 1 1 1 1 1 1 1 1 1 1 1 1 1 1 1 1 1 1 1 1 1 1 1 1 1 1 1 1 1 1 1 1 1 1 1 1 1\n",
      " 1 1 1 1 1 1 1 1 1 1 1 1 1 1 1 1 1 1 1 1 1 1 1 0 0 0 0 0 0 0 0 1 1 1 1 1 1\n",
      " 1 1 1 1 0 0 0 0 0 0 0 0 0 0 0 0 0 0 0 1 1 0 0 0 0 0 0 0 0 0 0 0 0 0 0 0 0\n",
      " 0 0 0 0 0 1 1 1 1 1 1 1 1 1 1 1 1 1 1 1 1 1 1 1 1 1 1 0 0 0 0 0 0 0 0 0 0\n",
      " 0 0 0 0]\n",
      "\n",
      "\n",
      "[[ 0.0295658  -1.07247713  0.33538861]\n",
      " [-0.9047691   0.38578037 -0.28707162]\n",
      " [ 1.9482081   0.79504631  0.11807865]]\n"
     ]
    }
   ],
   "source": [
    "labels = KM.predict(c_newdf)\n",
    "centroids = KM.cluster_centers_\n",
    "\n",
    "print(labels)\n",
    "print('\\n')\n",
    "print(centroids)"
   ]
  },
  {
   "cell_type": "code",
   "execution_count": 10,
   "metadata": {},
   "outputs": [
    {
     "name": "stdout",
     "output_type": "stream",
     "text": [
      "            0         1         2\n",
      "0   -0.072901  0.203069 -0.549959\n",
      "1   -0.295322  0.031585 -0.632741\n",
      "2    0.059328  0.738545  0.868082\n",
      "3   -0.311273  1.131365 -0.172954\n",
      "4    0.235340  0.635071 -0.476810\n",
      "5    2.643995  0.169992  0.848798\n",
      "6    2.571290  0.129144  0.795076\n",
      "7    2.995732  0.389982  1.069470\n",
      "8    0.296289  0.022931  0.606396\n",
      "9    0.687675  0.308041  0.799227\n",
      "10  -0.062641 -0.239855  0.466339\n",
      "11   0.034793 -0.163742  0.482882\n",
      "12   2.109488  1.121805  0.253368\n",
      "13   1.428530  0.504264  1.102498\n",
      "14   0.383383  0.321097  0.943373\n",
      "15   0.598501 -0.407577  1.996568\n",
      "16  -0.177337 -0.878942  1.485499\n",
      "17  -0.251111 -0.915834  1.422998\n",
      "18   0.043646 -0.731482  1.607922\n",
      "19   1.674151  1.303658  1.711671\n",
      "20  -0.431571 -0.230700  0.771688\n",
      "21   0.180365  0.155044  1.213735\n",
      "22   2.229579 -1.126822  1.567699\n",
      "23  -0.671121  0.031808  0.563363\n",
      "24  -0.443864  0.813412  0.763687\n",
      "25   0.512578  0.864367 -0.991120\n",
      "26   1.757938  1.763505 -0.420630\n",
      "27  -0.172638  0.744087 -0.469200\n",
      "28  -0.897070  0.203131 -0.769631\n",
      "29   1.086327  1.269458 -0.712248\n",
      "..        ...       ...       ...\n",
      "529 -0.927917 -0.088430  0.506065\n",
      "530 -0.973896 -0.121811  0.485327\n",
      "531 -1.296611 -0.356688  0.337192\n",
      "532 -1.292201 -0.353929  0.339959\n",
      "533 -1.249199 -0.321412  0.362474\n",
      "534 -0.378198  0.311214  0.754859\n",
      "535 -1.296635 -0.359997  0.350146\n",
      "536 -0.486511  0.234554  0.704338\n",
      "537 -1.206872 -0.294607  0.390244\n",
      "538 -0.392699  0.302477  0.746977\n",
      "539 -1.242676 -0.321625  0.375890\n",
      "540 -0.625857  0.133528  0.641241\n",
      "541 -1.361453 -0.419427  0.290458\n",
      "542 -0.908242 -0.085100  0.485599\n",
      "543 -0.692546  0.080906  0.609543\n",
      "544 -1.121191 -0.228807  0.413597\n",
      "545 -0.070839 -0.531473  0.170817\n",
      "546 -0.711570 -0.996957 -0.117644\n",
      "547 -0.402161 -0.741844  0.101525\n",
      "548 -0.364266 -0.713519  0.117190\n",
      "549 -0.235958 -0.631001  0.155953\n",
      "550 -0.068274 -0.507627  0.228720\n",
      "551 -0.636083 -0.903707  0.488406\n",
      "552 -1.053706 -1.206527  0.299375\n",
      "553 -0.346763 -0.694675  0.622483\n",
      "554 -0.774248 -1.003662  0.427265\n",
      "555 -0.722389 -0.986851  0.402689\n",
      "556 -1.058264 -1.229293  0.248728\n",
      "557 -0.593568 -0.873821  0.502110\n",
      "558 -0.637984 -0.906226  0.482353\n",
      "\n",
      "[559 rows x 3 columns]\n",
      "\n",
      "\n",
      "            0         1         2  cluster\n",
      "0   -0.072901  0.203069 -0.549959      1.0\n",
      "1   -0.295322  0.031585 -0.632741      1.0\n",
      "2    0.059328  0.738545  0.868082      1.0\n",
      "3   -0.311273  1.131365 -0.172954      1.0\n",
      "4    0.235340  0.635071 -0.476810      1.0\n",
      "5    2.643995  0.169992  0.848798      2.0\n",
      "6    2.571290  0.129144  0.795076      2.0\n",
      "7    2.995732  0.389982  1.069470      2.0\n",
      "8    0.296289  0.022931  0.606396      0.0\n",
      "9    0.687675  0.308041  0.799227      2.0\n",
      "10  -0.062641 -0.239855  0.466339      0.0\n",
      "11   0.034793 -0.163742  0.482882      0.0\n",
      "12   2.109488  1.121805  0.253368      2.0\n",
      "13   1.428530  0.504264  1.102498      2.0\n",
      "14   0.383383  0.321097  0.943373      0.0\n",
      "15   0.598501 -0.407577  1.996568      0.0\n",
      "16  -0.177337 -0.878942  1.485499      0.0\n",
      "17  -0.251111 -0.915834  1.422998      0.0\n",
      "18   0.043646 -0.731482  1.607922      0.0\n",
      "19   1.674151  1.303658  1.711671      2.0\n",
      "20  -0.431571 -0.230700  0.771688      0.0\n",
      "21   0.180365  0.155044  1.213735      0.0\n",
      "22   2.229579 -1.126822  1.567699      2.0\n",
      "23  -0.671121  0.031808  0.563363      1.0\n",
      "24  -0.443864  0.813412  0.763687      1.0\n",
      "25   0.512578  0.864367 -0.991120      1.0\n",
      "26   1.757938  1.763505 -0.420630      2.0\n",
      "27  -0.172638  0.744087 -0.469200      1.0\n",
      "28  -0.897070  0.203131 -0.769631      1.0\n",
      "29   1.086327  1.269458 -0.712248      2.0\n",
      "..        ...       ...       ...      ...\n",
      "529 -0.927917 -0.088430  0.506065      1.0\n",
      "530 -0.973896 -0.121811  0.485327      1.0\n",
      "531 -1.296611 -0.356688  0.337192      1.0\n",
      "532 -1.292201 -0.353929  0.339959      1.0\n",
      "533 -1.249199 -0.321412  0.362474      1.0\n",
      "534 -0.378198  0.311214  0.754859      1.0\n",
      "535 -1.296635 -0.359997  0.350146      1.0\n",
      "536 -0.486511  0.234554  0.704338      1.0\n",
      "537 -1.206872 -0.294607  0.390244      1.0\n",
      "538 -0.392699  0.302477  0.746977      1.0\n",
      "539 -1.242676 -0.321625  0.375890      1.0\n",
      "540 -0.625857  0.133528  0.641241      1.0\n",
      "541 -1.361453 -0.419427  0.290458      1.0\n",
      "542 -0.908242 -0.085100  0.485599      1.0\n",
      "543 -0.692546  0.080906  0.609543      1.0\n",
      "544 -1.121191 -0.228807  0.413597      1.0\n",
      "545 -0.070839 -0.531473  0.170817      0.0\n",
      "546 -0.711570 -0.996957 -0.117644      0.0\n",
      "547 -0.402161 -0.741844  0.101525      0.0\n",
      "548 -0.364266 -0.713519  0.117190      0.0\n",
      "549 -0.235958 -0.631001  0.155953      0.0\n",
      "550 -0.068274 -0.507627  0.228720      0.0\n",
      "551 -0.636083 -0.903707  0.488406      0.0\n",
      "552 -1.053706 -1.206527  0.299375      0.0\n",
      "553 -0.346763 -0.694675  0.622483      0.0\n",
      "554 -0.774248 -1.003662  0.427265      0.0\n",
      "555 -0.722389 -0.986851  0.402689      0.0\n",
      "556 -1.058264 -1.229293  0.248728      0.0\n",
      "557 -0.593568 -0.873821  0.502110      0.0\n",
      "558 -0.637984 -0.906226  0.482353      0.0\n",
      "\n",
      "[559 rows x 4 columns]\n"
     ]
    }
   ],
   "source": [
    "df2 = copy.deepcopy(c_newdf)\n",
    "df2['cluster'] = labels.astype('float')\n",
    "PD_df['cluster'] = labels.astype('int') #append into original dataframe\n",
    "print(c_newdf)\n",
    "print('\\n')\n",
    "print(df2)"
   ]
  },
  {
   "cell_type": "code",
   "execution_count": 11,
   "metadata": {},
   "outputs": [
    {
     "data": {
      "image/png": "[encoded data removed]",
      "text/plain": [
       "<Figure size 720x720 with 1 Axes>"
      ]
     },
     "metadata": {},
     "output_type": "display_data"
    }
   ],
   "source": [
    "from mpl_toolkits.mplot3d import Axes3D\n",
    "fig0 = plt.figure(figsize=(10,10))\n",
    "fig = fig0.add_subplot(111,projection='3d')\n",
    "colmap = {1: 'r', 2: 'g', 3: 'b'}\n",
    "\n",
    "colors = map(lambda x: colmap[x+1], labels)\n",
    "\n",
    "fig.scatter(df2[0], df2[1], df2[2], color=list(colors), alpha=0.5, edgecolor='k')\n",
    "for idx, centroid in enumerate(centroids):\n",
    "    fig.scatter(*centroid, color=colmap[idx+1])\n",
    "plt.show()"
   ]
  },
  {
   "cell_type": "markdown",
   "metadata": {},
   "source": [
    "<p>From the 3D graph above, it clearly define each cluster into group 0 : red, group 1 : green & group 2 : blue.\n",
    "Group 0 (red) & group 1 (green) shows that each datapoint distance are fairly close to the centroids, clusters are more concentrated compare to group 2 (blue).<p>\n",
    "<p>The analysis from this graph tell us that there are high possibility that might have anomaly behaviour in the cluster of group 2 (blue).</p>\n",
    "<p>For next steps, we will move on to leverage machine learning & deep learning algorithm to find out the outliers inside current dataset.</p>\n",
    "<p>Approachs that will be using:</p>\n",
    "<ol>\n",
    "<li>Find outliers using **K means algorithm (ML)** for Anomaly detection.</li>\n",
    "<li>Find outliers using **Autoencoder algorithm (DL)** for Anomaly detection.</li>\n",
    "<li>compare the result of 2 model.</li>\n",
    "<li>Identify risk of each datapoint base on both model result.</li>\n",
    "    <ul>\n",
    "      <li>if either one model result is anomaly --> Potential Risk</li>\n",
    "      <li>both model result is anomaly --> High Risk</li>\n",
    "      <li>both model result is normal --> Low Risk</li>\n",
    "    </ul>\n",
    "</ol>"
   ]
  },
  {
   "cell_type": "markdown",
   "metadata": {},
   "source": [
    "<h1 style=\"text-align: center;\"> K-Means Anomaly Detection</h1>\n",
    "\n",
    "![alt-text](img/kmeans_anomaly.png \"anomaly detection using k means\")\n",
    "\n",
    "<p>In order to fit this dataset into k means, we will first have to compress the current 5 dimensional dataset into 1 dimensional. Hence, we will be able to view the dataset in 1 dimensional space and perform distance calculation from the centroids.</p>\n",
    "<ol>\n",
    "    <li>Using PCA to reduce the dataset dimension in 1 dimension.</li>\n",
    "    <li>Define K means algorithm and set the cluster size to 1. (we just need to see how close the data's are group to each other)</li>\n",
    "    <li>Get the mean of all data points distance.</li>\n",
    "    <li>Get the standard deviation of all data points distance.</li>\n",
    "    <li>Get the sum of mean & standard deviation.</li>\n",
    "    <li>Define the threshold using the result of step 5.</li>\n",
    "    <li>Plot the graph & we will have the view of how many outliers are inside this dataset.</li>\n",
    "</ol>"
   ]
  },
  {
   "cell_type": "code",
   "execution_count": 14,
   "metadata": {},
   "outputs": [
    {
     "name": "stdout",
     "output_type": "stream",
     "text": [
      "            0\n",
      "0   -0.072901\n",
      "1   -0.295322\n",
      "2    0.059328\n",
      "3   -0.311273\n",
      "4    0.235340\n",
      "5    2.643995\n",
      "6    2.571290\n",
      "7    2.995732\n",
      "8    0.296289\n",
      "9    0.687675\n",
      "10  -0.062641\n",
      "11   0.034793\n",
      "12   2.109488\n",
      "13   1.428530\n",
      "14   0.383383\n",
      "15   0.598501\n",
      "16  -0.177337\n",
      "17  -0.251111\n",
      "18   0.043646\n",
      "19   1.674151\n",
      "20  -0.431571\n",
      "21   0.180365\n",
      "22   2.229579\n",
      "23  -0.671121\n",
      "24  -0.443864\n",
      "25   0.512578\n",
      "26   1.757938\n",
      "27  -0.172638\n",
      "28  -0.897070\n",
      "29   1.086327\n",
      "..        ...\n",
      "529 -0.927917\n",
      "530 -0.973896\n",
      "531 -1.296611\n",
      "532 -1.292201\n",
      "533 -1.249199\n",
      "534 -0.378198\n",
      "535 -1.296635\n",
      "536 -0.486511\n",
      "537 -1.206872\n",
      "538 -0.392699\n",
      "539 -1.242676\n",
      "540 -0.625857\n",
      "541 -1.361453\n",
      "542 -0.908242\n",
      "543 -0.692546\n",
      "544 -1.121191\n",
      "545 -0.070839\n",
      "546 -0.711570\n",
      "547 -0.402161\n",
      "548 -0.364266\n",
      "549 -0.235958\n",
      "550 -0.068274\n",
      "551 -0.636083\n",
      "552 -1.053706\n",
      "553 -0.346763\n",
      "554 -0.774248\n",
      "555 -0.722389\n",
      "556 -1.058264\n",
      "557 -0.593568\n",
      "558 -0.637984\n",
      "\n",
      "[559 rows x 1 columns]\n",
      "KMeans(algorithm='auto', copy_x=True, init='k-means++', max_iter=300,\n",
      "    n_clusters=1, n_init=10, n_jobs=1, precompute_distances='auto',\n",
      "    random_state=None, tol=0.0001, verbose=0)\n"
     ]
    }
   ],
   "source": [
    "import pickle as pk\n",
    "#Reducing the dataset dimension from 5 into 1.\n",
    "AD_reducedf = copy.deepcopy(df)\n",
    "\n",
    "pca_AD = PCA(1)\n",
    "pca_AD.fit(AD_reducedf)\n",
    "pk.dump(pca_AD, open('model/pca_model.pkl', 'wb'))\n",
    "pca_reload = pk.load(open('model/pca_model.pkl','rb'))\n",
    "AD_lmdf = pd.DataFrame(pca_reload.transform(AD_reducedf))\n",
    "print(AD_lmdf)\n",
    "\n",
    "kmeans_AD = KMeans(n_clusters=1)\n",
    "kmeans_AD.fit(AD_lmdf)\n",
    "pk.dump(kmeans_AD, open('model/kmeans_model.pkl','wb'))\n",
    "\n",
    "kmeans_load = pk.load(open('model/kmeans_model.pkl', 'rb'))\n",
    "print(kmeans_load)"
   ]
  },
  {
   "cell_type": "code",
   "execution_count": 15,
   "metadata": {},
   "outputs": [
    {
     "name": "stdout",
     "output_type": "stream",
     "text": [
      "[[-1.94636595e-17]]\n"
     ]
    }
   ],
   "source": [
    "#Get the centroids of current 1 dimensional cluster\n",
    "kmad_center = kmeans_load.cluster_centers_\n",
    "print(kmad_center)"
   ]
  },
  {
   "cell_type": "code",
   "execution_count": 17,
   "metadata": {},
   "outputs": [
    {
     "ename": "ValueError",
     "evalue": "Unable to coerce to DataFrame, shape must be (559, 1): given (1, 1)",
     "output_type": "error",
     "traceback": [
      "\u001b[1;31m---------------------------------------------------------------------------\u001b[0m",
      "\u001b[1;31mValueError\u001b[0m                                Traceback (most recent call last)",
      "\u001b[1;32m<ipython-input-17-4b294796e6fe>\u001b[0m in \u001b[0;36m<module>\u001b[1;34m()\u001b[0m\n\u001b[1;32m----> 1\u001b[1;33m \u001b[0mdistance\u001b[0m \u001b[1;33m=\u001b[0m \u001b[0mnp\u001b[0m\u001b[1;33m.\u001b[0m\u001b[0msqrt\u001b[0m\u001b[1;33m(\u001b[0m\u001b[1;33m(\u001b[0m\u001b[0mAD_lmdf\u001b[0m \u001b[1;33m-\u001b[0m \u001b[0mkmad_center\u001b[0m\u001b[1;33m)\u001b[0m\u001b[1;33m**\u001b[0m\u001b[1;36m2\u001b[0m\u001b[1;33m)\u001b[0m \u001b[1;31m#Calculate distances each datapoints from it's centroids value\u001b[0m\u001b[1;33m\u001b[0m\u001b[0m\n\u001b[0m\u001b[0;32m      2\u001b[0m \u001b[0mprint\u001b[0m\u001b[1;33m(\u001b[0m\u001b[0mdistance\u001b[0m\u001b[1;33m.\u001b[0m\u001b[0mdescribe\u001b[0m\u001b[1;33m(\u001b[0m\u001b[1;33m)\u001b[0m\u001b[1;33m)\u001b[0m\u001b[1;33m\u001b[0m\u001b[0m\n\u001b[0;32m      3\u001b[0m \u001b[0mk_threshold\u001b[0m \u001b[1;33m=\u001b[0m \u001b[1;36m1.847804\u001b[0m \u001b[1;31m# mean + standard deviation\u001b[0m\u001b[1;33m\u001b[0m\u001b[0m\n\u001b[0;32m      4\u001b[0m \u001b[1;33m\u001b[0m\u001b[0m\n\u001b[0;32m      5\u001b[0m \u001b[0mPD_df\u001b[0m\u001b[1;33m[\u001b[0m\u001b[1;34m'kmeans_predict'\u001b[0m\u001b[1;33m]\u001b[0m \u001b[1;33m=\u001b[0m \u001b[1;33m[\u001b[0m\u001b[1;34m\"normal\"\u001b[0m \u001b[1;32mif\u001b[0m \u001b[0mx\u001b[0m \u001b[1;33m<\u001b[0m \u001b[0mk_threshold\u001b[0m \u001b[1;32melse\u001b[0m \u001b[1;34m\"anomaly\"\u001b[0m \u001b[1;32mfor\u001b[0m \u001b[0mx\u001b[0m \u001b[1;32min\u001b[0m \u001b[0mdistance\u001b[0m\u001b[1;33m[\u001b[0m\u001b[1;36m0\u001b[0m\u001b[1;33m]\u001b[0m\u001b[1;33m]\u001b[0m \u001b[1;31m#append into original dataframe\u001b[0m\u001b[1;33m\u001b[0m\u001b[0m\n",
      "\u001b[1;32mC:\\ProgramData\\Anaconda3\\lib\\site-packages\\pandas\\core\\ops.py\u001b[0m in \u001b[0;36mf\u001b[1;34m(self, other, axis, level, fill_value)\u001b[0m\n\u001b[0;32m   1515\u001b[0m     \u001b[1;32mdef\u001b[0m \u001b[0mf\u001b[0m\u001b[1;33m(\u001b[0m\u001b[0mself\u001b[0m\u001b[1;33m,\u001b[0m \u001b[0mother\u001b[0m\u001b[1;33m,\u001b[0m \u001b[0maxis\u001b[0m\u001b[1;33m=\u001b[0m\u001b[0mdefault_axis\u001b[0m\u001b[1;33m,\u001b[0m \u001b[0mlevel\u001b[0m\u001b[1;33m=\u001b[0m\u001b[1;32mNone\u001b[0m\u001b[1;33m,\u001b[0m \u001b[0mfill_value\u001b[0m\u001b[1;33m=\u001b[0m\u001b[1;32mNone\u001b[0m\u001b[1;33m)\u001b[0m\u001b[1;33m:\u001b[0m\u001b[1;33m\u001b[0m\u001b[0m\n\u001b[0;32m   1516\u001b[0m \u001b[1;33m\u001b[0m\u001b[0m\n\u001b[1;32m-> 1517\u001b[1;33m         \u001b[0mother\u001b[0m \u001b[1;33m=\u001b[0m \u001b[0m_align_method_FRAME\u001b[0m\u001b[1;33m(\u001b[0m\u001b[0mself\u001b[0m\u001b[1;33m,\u001b[0m \u001b[0mother\u001b[0m\u001b[1;33m,\u001b[0m \u001b[0maxis\u001b[0m\u001b[1;33m)\u001b[0m\u001b[1;33m\u001b[0m\u001b[0m\n\u001b[0m\u001b[0;32m   1518\u001b[0m \u001b[1;33m\u001b[0m\u001b[0m\n\u001b[0;32m   1519\u001b[0m         \u001b[1;32mif\u001b[0m \u001b[0misinstance\u001b[0m\u001b[1;33m(\u001b[0m\u001b[0mother\u001b[0m\u001b[1;33m,\u001b[0m \u001b[0mABCDataFrame\u001b[0m\u001b[1;33m)\u001b[0m\u001b[1;33m:\u001b[0m  \u001b[1;31m# Another DataFrame\u001b[0m\u001b[1;33m\u001b[0m\u001b[0m\n",
      "\u001b[1;32mC:\\ProgramData\\Anaconda3\\lib\\site-packages\\pandas\\core\\ops.py\u001b[0m in \u001b[0;36m_align_method_FRAME\u001b[1;34m(left, right, axis)\u001b[0m\n\u001b[0;32m   1438\u001b[0m                                  \u001b[1;34m\"must be {req_shape}: given {given_shape}\"\u001b[0m\u001b[1;33m\u001b[0m\u001b[0m\n\u001b[0;32m   1439\u001b[0m                                  .format(req_shape=left.shape,\n\u001b[1;32m-> 1440\u001b[1;33m                                          given_shape=right.shape))\n\u001b[0m\u001b[0;32m   1441\u001b[0m \u001b[1;33m\u001b[0m\u001b[0m\n\u001b[0;32m   1442\u001b[0m             right = left._constructor(right, index=left.index,\n",
      "\u001b[1;31mValueError\u001b[0m: Unable to coerce to DataFrame, shape must be (559, 1): given (1, 1)"
     ]
    }
   ],
   "source": [
    "distance = np.sqrt((AD_lmdf - kmad_center)**2) #Calculate distances each datapoints from it's centroids value\n",
    "print(distance.describe())\n",
    "k_threshold = 1.847804 # mean + standard deviation\n",
    "\n",
    "PD_df['kmeans_predict'] = [\"normal\" if x < k_threshold else \"anomaly\" for x in distance[0]] #append into original dataframe\n",
    "\n",
    "k_anomaly = [x for x in distance[0] if x >= k_threshold]\n",
    "k_normal = [x for x in distance[0] if x < k_threshold]\n",
    "anomaly_index = [x for x in range(len(k_anomaly))]\n",
    "normal_index = [x for x in range(len(k_normal))]\n",
    "\n",
    "k_group = [(anomaly_index, k_anomaly, \"anomaly\"),(normal_index, k_normal, \"normal\")]\n",
    "_, kmplot = plt.subplots(figsize=(10,10))\n",
    "\n",
    "for k_idx, k_data, kname in k_group:\n",
    "    kmplot.plot(k_idx, k_data, marker='o', ms=3.5, linestyle='',\n",
    "               label= \"Anomaly\" if kname == \"anomaly\" else \"Normal\",\n",
    "             color = \"r\" if kname == \"anomaly\" else \"g\")\n",
    "kmplot.hlines(k_threshold, kmplot.get_xlim()[0], kmplot.get_xlim()[1], colors=\"b\", zorder=100, label='Threshold')\n",
    "kmplot.set_title('K Means Prediction  Result')\n",
    "kmplot.set_xlabel('Index')\n",
    "kmplot.set_ylabel('Distance to Centroids')\n",
    "plt.legend()"
   ]
  },
  {
   "cell_type": "markdown",
   "metadata": {},
   "source": [
    "<p>From the K Means result, we have been able to detect the outliers data point from the graph above. Hence, for the data point that are <b>above</b> the threshold value will be labelled as <b>anomaly</b> (red dot in the graph) & those are <b>below</b> threshold value will be labelled as <b>normal</b> (green dot in the graph).</p>\n",
    "<p>These label will be appended into the original dataframe for result recording purpose. We will then move on to use deep learning method for detecting the anomaly activities in current dataset.</p>"
   ]
  },
  {
   "cell_type": "markdown",
   "metadata": {},
   "source": [
    "<h1 style=\"text-align: center;\">Autoencoder for Anomaly Detection</h1>\n",
    "\n",
    "![alt text](img/autoencoder2.png \"Autoencoder\")\n",
    "\n",
    "<h3>What is Autoencoder ?</h3>\n",
    "<p>Autoencoder is an unsupervised neural network algorithms that able to:</p>\n",
    "<ul>\n",
    "    <li>Accept an input set of data</li>\n",
    "    <li>Compress the data into a latent-space representation using encoder</li>\n",
    "    <li>Reconstruct the input data from the latent-space using decoder </li>\n",
    "</ul>\n",
    "<p>In details, Autoencoder is a neural network designed to learn an identity function in an unsupervised way to reconstruct the original input while compressing the data in the process so as to discover a more efficient and compressed representation.</p>\n",
    "<p>In whole Autoencoder Architecture, we train the encoder the focus on the important common features from dataset and train the decoder to reconstruct it's input base on the important features from encoder.</p>\n",
    "<h3>Why use Autoencoder on current dataset ?</h3>\n",
    "<p>Autoencoder is one of the most effective anomaly detection algorithms that apply in many domain, be it images, time series or tabular data.</p>\n",
    "<p>For current dataset, the challenges is do not contain any label. Unlabelled dataset will be categorize under unsupervised learning. As per anomaly detection domain, the dataset usually are highly imbalanced in distribution (normal & anomaly). From the 3D graph that generate using K-Means, we can see that, majority of data points are quite close to each other and there are minority of data point are far from the centroids.</p>\n",
    "<p><b>Hence, we can make an hypothesis that this dataset distribution of normal & anomaly class are also imbalanced.</b></p>\n",
    "<p>With the assumption made,  we can leverage the strength of Autoencoder, let the neural network learn the common pattern in the dataset (normal class). At the end of training, we shall expect the neural network will have high reconstruction error for anomaly data point and low reconstruction point for normal data point.</p>\n",
    "<h3>Steps to train an Autoencoder</h3>\n",
    "<ul>\n",
    "    <li>Drop the Equipment ID column (noise) & standardize the dataset. (already perform in the early stages)</li>\n",
    "    <li>Split the dataset into 80%(train) & 20%(test) and convert to numpy array.</li>\n",
    "    <li>Construct an Autoencoder Neural Network. (tf.keras)</li>\n",
    "    <li>Fit train set for training, fit test set for testing.</li>\n",
    "    <li>Plot the training loss & testing loss (if is converge, then move to next step)</li>\n",
    "    <li>Inference on whole dataset to get the reconstruction loss.</li>\n",
    "    <li>Get the mean & standard deviation value and sum them up.</li>\n",
    "    <li>Set the threshold value base on the previous step.</li>\n",
    "    <li>plot the reconstruction loss graph and segregate out anomaly and normal class base on threshold value.</li>\n",
    "</ul>"
   ]
  },
  {
   "cell_type": "code",
   "execution_count": null,
   "metadata": {},
   "outputs": [],
   "source": [
    "# define the train set and test set \n",
    "from sklearn.model_selection import train_test_split\n",
    "AE_DF = copy.deepcopy(df)\n",
    "split = 0.2\n",
    "train, test = train_test_split(AE_DF, test_size = split, random_state=1000)"
   ]
  },
  {
   "cell_type": "code",
   "execution_count": null,
   "metadata": {},
   "outputs": [],
   "source": [
    "# convert pandas dataframe to numpy arrays\n",
    "train = train.values #to numpy array\n",
    "test = test.values #to numpy array\n",
    "\n",
    "print(\"train shape : \", train.shape)\n",
    "print(\"test shape : \", test.shape)"
   ]
  },
  {
   "cell_type": "code",
   "execution_count": null,
   "metadata": {
    "scrolled": false
   },
   "outputs": [],
   "source": [
    "# Construct the Autoencoder Neural Network here\n",
    "from tensorflow.keras.callbacks import ModelCheckpoint, TensorBoard\n",
    "\n",
    "from tensorflow.keras.models import Sequential\n",
    "from tensorflow.keras.layers import Dense\n",
    "\n",
    "features_dim = 32\n",
    "\n",
    "autoencoder = Sequential()\n",
    "autoencoder.add(Dense(units = features_dim, input_shape = (train.shape[1],), activation = 'relu'))\n",
    "autoencoder.add(Dense(units = int(features_dim / 2), activation = \"relu\"))\n",
    "\n",
    "autoencoder.add(Dense(units = int(features_dim / 4), activation = \"relu\"))\n",
    "autoencoder.add(Dense(units = int(features_dim / 4), activation = \"relu\"))\n",
    "\n",
    "autoencoder.add(Dense(units = int(features_dim / 2), activation = \"relu\"))\n",
    "autoencoder.add(Dense(units = features_dim, activation = \"relu\"))\n",
    "autoencoder.add(Dense(units = train.shape[1], activation = 'linear'))\n",
    "\n",
    "autoencoder.compile(optimizer='adam', \n",
    "                    loss='mean_squared_error', \n",
    "                    metrics=['accuracy'])\n",
    "\n",
    "autoencoder.summary()"
   ]
  },
  {
   "cell_type": "code",
   "execution_count": 5,
   "metadata": {},
   "outputs": [
    {
     "ename": "NameError",
     "evalue": "name 'ModelCheckpoint' is not defined",
     "output_type": "error",
     "traceback": [
      "\u001b[1;31m---------------------------------------------------------------------------\u001b[0m",
      "\u001b[1;31mNameError\u001b[0m                                 Traceback (most recent call last)",
      "\u001b[1;32m<ipython-input-5-eca37346a598>\u001b[0m in \u001b[0;36m<module>\u001b[1;34m()\u001b[0m\n\u001b[0;32m      3\u001b[0m \u001b[0mbatch_size\u001b[0m \u001b[1;33m=\u001b[0m \u001b[1;36m64\u001b[0m\u001b[1;33m\u001b[0m\u001b[0m\n\u001b[0;32m      4\u001b[0m \u001b[1;33m\u001b[0m\u001b[0m\n\u001b[1;32m----> 5\u001b[1;33m checkpointer = ModelCheckpoint(filepath=\"model/AE_model.h5\",\n\u001b[0m\u001b[0;32m      6\u001b[0m                                \u001b[0mverbose\u001b[0m \u001b[1;33m=\u001b[0m \u001b[1;36m0\u001b[0m\u001b[1;33m,\u001b[0m\u001b[1;33m\u001b[0m\u001b[0m\n\u001b[0;32m      7\u001b[0m                                save_best_only=True)\n",
      "\u001b[1;31mNameError\u001b[0m: name 'ModelCheckpoint' is not defined"
     ]
    }
   ],
   "source": [
    "# Start the Autoencoder NN training\n",
    "epoch = 100\n",
    "batch_size = 64\n",
    "\n",
    "checkpointer = ModelCheckpoint(filepath=\"model/AE_model.h5\",\n",
    "                               verbose = 0,\n",
    "                               save_best_only=True)\n",
    "\n",
    "tensorboard = TensorBoard(log_dir='./logs',\n",
    "                          histogram_freq=1,\n",
    "                          write_graph=True,\n",
    "                          write_images=True)\n",
    "\n",
    "history = autoencoder.fit(train, train, \n",
    "                          epochs = epoch, \n",
    "                          batch_size = batch_size,\n",
    "                          shuffle = True,\n",
    "                          validation_data = (test, test),\n",
    "                          verbose = 0,\n",
    "                          callbacks=[checkpointer, tensorboard]).history"
   ]
  },
  {
   "cell_type": "code",
   "execution_count": 6,
   "metadata": {},
   "outputs": [
    {
     "ename": "NameError",
     "evalue": "name 'history' is not defined",
     "output_type": "error",
     "traceback": [
      "\u001b[1;31m---------------------------------------------------------------------------\u001b[0m",
      "\u001b[1;31mNameError\u001b[0m                                 Traceback (most recent call last)",
      "\u001b[1;32m<ipython-input-6-10fb5c58e47a>\u001b[0m in \u001b[0;36m<module>\u001b[1;34m()\u001b[0m\n\u001b[0;32m      1\u001b[0m \u001b[1;31m# Plot the training loss & testing loss\u001b[0m\u001b[1;33m\u001b[0m\u001b[1;33m\u001b[0m\u001b[0m\n\u001b[0;32m      2\u001b[0m \u001b[0m_\u001b[0m\u001b[1;33m,\u001b[0m \u001b[0mtrainax\u001b[0m \u001b[1;33m=\u001b[0m \u001b[0mplt\u001b[0m\u001b[1;33m.\u001b[0m\u001b[0msubplots\u001b[0m\u001b[1;33m(\u001b[0m\u001b[0mfigsize\u001b[0m\u001b[1;33m=\u001b[0m\u001b[1;33m(\u001b[0m\u001b[1;36m10\u001b[0m\u001b[1;33m,\u001b[0m\u001b[1;36m10\u001b[0m\u001b[1;33m)\u001b[0m\u001b[1;33m)\u001b[0m\u001b[1;33m\u001b[0m\u001b[0m\n\u001b[1;32m----> 3\u001b[1;33m \u001b[0mtrainax\u001b[0m\u001b[1;33m.\u001b[0m\u001b[0mplot\u001b[0m\u001b[1;33m(\u001b[0m\u001b[0mhistory\u001b[0m\u001b[1;33m[\u001b[0m\u001b[1;34m'loss'\u001b[0m\u001b[1;33m]\u001b[0m\u001b[1;33m)\u001b[0m\u001b[1;33m\u001b[0m\u001b[0m\n\u001b[0m\u001b[0;32m      4\u001b[0m \u001b[0mtrainax\u001b[0m\u001b[1;33m.\u001b[0m\u001b[0mplot\u001b[0m\u001b[1;33m(\u001b[0m\u001b[0mhistory\u001b[0m\u001b[1;33m[\u001b[0m\u001b[1;34m'val_loss'\u001b[0m\u001b[1;33m]\u001b[0m\u001b[1;33m)\u001b[0m\u001b[1;33m\u001b[0m\u001b[0m\n\u001b[0;32m      5\u001b[0m \u001b[1;33m\u001b[0m\u001b[0m\n",
      "\u001b[1;31mNameError\u001b[0m: name 'history' is not defined"
     ]
    },
    {
     "data": {
      "image/png": "[encoded data removed]",
      "text/plain": [
       "<Figure size 720x720 with 1 Axes>"
      ]
     },
     "metadata": {},
     "output_type": "display_data"
    }
   ],
   "source": [
    "# Plot the training loss & testing loss\n",
    "_, trainax = plt.subplots(figsize=(10,10))\n",
    "trainax.plot(history['loss'])\n",
    "trainax.plot(history['val_loss'])\n",
    "\n",
    "trainax.set_title('Training Loss')\n",
    "trainax.set_xlabel('Epochs')\n",
    "trainax.set_ylabel('Loss')\n",
    "trainax.legend(['Train', 'Test'], loc = 'upper right')"
   ]
  },
  {
   "cell_type": "code",
   "execution_count": 7,
   "metadata": {},
   "outputs": [
    {
     "ename": "NameError",
     "evalue": "name 'copy' is not defined",
     "output_type": "error",
     "traceback": [
      "\u001b[1;31m---------------------------------------------------------------------------\u001b[0m",
      "\u001b[1;31mNameError\u001b[0m                                 Traceback (most recent call last)",
      "\u001b[1;32m<ipython-input-7-c00fa3cb26cd>\u001b[0m in \u001b[0;36m<module>\u001b[1;34m()\u001b[0m\n\u001b[0;32m      1\u001b[0m \u001b[1;31m# prepare another copy of whole dataset as numpy arrays\u001b[0m\u001b[1;33m\u001b[0m\u001b[1;33m\u001b[0m\u001b[0m\n\u001b[1;32m----> 2\u001b[1;33m \u001b[0mtest_df\u001b[0m \u001b[1;33m=\u001b[0m \u001b[0mcopy\u001b[0m\u001b[1;33m.\u001b[0m\u001b[0mdeepcopy\u001b[0m\u001b[1;33m(\u001b[0m\u001b[0mdf\u001b[0m\u001b[1;33m)\u001b[0m\u001b[1;33m\u001b[0m\u001b[0m\n\u001b[0m\u001b[0;32m      3\u001b[0m \u001b[0mtest_df\u001b[0m \u001b[1;33m=\u001b[0m \u001b[0mtest_df\u001b[0m\u001b[1;33m.\u001b[0m\u001b[0mvalues\u001b[0m\u001b[1;33m\u001b[0m\u001b[0m\n\u001b[0;32m      4\u001b[0m \u001b[0mprint\u001b[0m\u001b[1;33m(\u001b[0m\u001b[0mtest_df\u001b[0m\u001b[1;33m)\u001b[0m\u001b[1;33m\u001b[0m\u001b[0m\n",
      "\u001b[1;31mNameError\u001b[0m: name 'copy' is not defined"
     ]
    }
   ],
   "source": [
    "# prepare another copy of whole dataset as numpy arrays\n",
    "test_df = copy.deepcopy(df)\n",
    "test_df = test_df.values\n",
    "print(test_df)"
   ]
  },
  {
   "cell_type": "code",
   "execution_count": 8,
   "metadata": {},
   "outputs": [
    {
     "ename": "ModuleNotFoundError",
     "evalue": "No module named 'tensorflow'",
     "output_type": "error",
     "traceback": [
      "\u001b[1;31m---------------------------------------------------------------------------\u001b[0m",
      "\u001b[1;31mModuleNotFoundError\u001b[0m                       Traceback (most recent call last)",
      "\u001b[1;32m<ipython-input-8-dad9cea277d5>\u001b[0m in \u001b[0;36m<module>\u001b[1;34m()\u001b[0m\n\u001b[0;32m      1\u001b[0m \u001b[1;31m# Perform inferencing base of the training AE model\u001b[0m\u001b[1;33m\u001b[0m\u001b[1;33m\u001b[0m\u001b[0m\n\u001b[1;32m----> 2\u001b[1;33m \u001b[1;32mfrom\u001b[0m \u001b[0mtensorflow\u001b[0m\u001b[1;33m.\u001b[0m\u001b[0mkeras\u001b[0m\u001b[1;33m.\u001b[0m\u001b[0mmodels\u001b[0m \u001b[1;32mimport\u001b[0m \u001b[0mload_model\u001b[0m\u001b[1;33m\u001b[0m\u001b[0m\n\u001b[0m\u001b[0;32m      3\u001b[0m \u001b[1;33m\u001b[0m\u001b[0m\n\u001b[0;32m      4\u001b[0m \u001b[0msave_model\u001b[0m \u001b[1;33m=\u001b[0m \u001b[0mload_model\u001b[0m\u001b[1;33m(\u001b[0m\u001b[1;34m'model/AE_model.h5'\u001b[0m\u001b[1;33m)\u001b[0m \u001b[1;31m#load the save model\u001b[0m\u001b[1;33m\u001b[0m\u001b[0m\n\u001b[0;32m      5\u001b[0m \u001b[0mpredict\u001b[0m \u001b[1;33m=\u001b[0m \u001b[0msave_model\u001b[0m\u001b[1;33m.\u001b[0m\u001b[0mpredict\u001b[0m\u001b[1;33m(\u001b[0m\u001b[0mtest_df\u001b[0m\u001b[1;33m)\u001b[0m\u001b[1;33m\u001b[0m\u001b[0m\n",
      "\u001b[1;31mModuleNotFoundError\u001b[0m: No module named 'tensorflow'"
     ]
    }
   ],
   "source": [
    "# Perform inferencing base of the training AE model\n",
    "from tensorflow.keras.models import load_model\n",
    "\n",
    "save_model = load_model('model/AE_model.h5') #load the save model\n",
    "predict = save_model.predict(test_df)\n",
    "mse = np.mean(np.power(predict - test_df, 2), axis=1)\n",
    "error_df = pd.DataFrame({'reconstruction_error': mse})\n",
    "print(error_df.describe())\n",
    "print(error_df['reconstruction_error'].std().item())"
   ]
  },
  {
   "cell_type": "code",
   "execution_count": 9,
   "metadata": {
    "scrolled": false
   },
   "outputs": [
    {
     "ename": "NameError",
     "evalue": "name 'error_df' is not defined",
     "output_type": "error",
     "traceback": [
      "\u001b[1;31m---------------------------------------------------------------------------\u001b[0m",
      "\u001b[1;31mNameError\u001b[0m                                 Traceback (most recent call last)",
      "\u001b[1;32m<ipython-input-9-aa99de12ca34>\u001b[0m in \u001b[0;36m<module>\u001b[1;34m()\u001b[0m\n\u001b[0;32m      1\u001b[0m \u001b[1;31m# Calculate the threshold value base on mean and standard deviation of reconstruction loss\u001b[0m\u001b[1;33m\u001b[0m\u001b[1;33m\u001b[0m\u001b[0m\n\u001b[1;32m----> 2\u001b[1;33m \u001b[0mthreshold\u001b[0m \u001b[1;33m=\u001b[0m \u001b[0merror_df\u001b[0m\u001b[1;33m[\u001b[0m\u001b[1;34m'reconstruction_error'\u001b[0m\u001b[1;33m]\u001b[0m\u001b[1;33m.\u001b[0m\u001b[0mmean\u001b[0m\u001b[1;33m(\u001b[0m\u001b[1;33m)\u001b[0m\u001b[1;33m.\u001b[0m\u001b[0mitem\u001b[0m\u001b[1;33m(\u001b[0m\u001b[1;33m)\u001b[0m \u001b[1;33m+\u001b[0m \u001b[0merror_df\u001b[0m\u001b[1;33m[\u001b[0m\u001b[1;34m'reconstruction_error'\u001b[0m\u001b[1;33m]\u001b[0m\u001b[1;33m.\u001b[0m\u001b[0mstd\u001b[0m\u001b[1;33m(\u001b[0m\u001b[1;33m)\u001b[0m\u001b[1;33m.\u001b[0m\u001b[0mitem\u001b[0m\u001b[1;33m(\u001b[0m\u001b[1;33m)\u001b[0m \u001b[1;31m#mean + standard deviation\u001b[0m\u001b[1;33m\u001b[0m\u001b[0m\n\u001b[0m\u001b[0;32m      3\u001b[0m \u001b[0mmse_list\u001b[0m \u001b[1;33m=\u001b[0m \u001b[0mmse\u001b[0m\u001b[1;33m.\u001b[0m\u001b[0mtolist\u001b[0m\u001b[1;33m(\u001b[0m\u001b[1;33m)\u001b[0m\u001b[1;33m\u001b[0m\u001b[0m\n\u001b[0;32m      4\u001b[0m \u001b[0m_\u001b[0m\u001b[1;33m,\u001b[0m \u001b[0maeax\u001b[0m \u001b[1;33m=\u001b[0m \u001b[0mplt\u001b[0m\u001b[1;33m.\u001b[0m\u001b[0msubplots\u001b[0m\u001b[1;33m(\u001b[0m\u001b[0mfigsize\u001b[0m\u001b[1;33m=\u001b[0m\u001b[1;33m(\u001b[0m\u001b[1;36m12\u001b[0m\u001b[1;33m,\u001b[0m\u001b[1;36m12\u001b[0m\u001b[1;33m)\u001b[0m\u001b[1;33m)\u001b[0m\u001b[1;33m\u001b[0m\u001b[0m\n\u001b[0;32m      5\u001b[0m \u001b[1;33m\u001b[0m\u001b[0m\n",
      "\u001b[1;31mNameError\u001b[0m: name 'error_df' is not defined"
     ]
    }
   ],
   "source": [
    "# Calculate the threshold value base on mean and standard deviation of reconstruction loss\n",
    "threshold = error_df['reconstruction_error'].mean().item() + error_df['reconstruction_error'].std().item() #mean + standard deviation\n",
    "mse_list = mse.tolist()\n",
    "_, aeax = plt.subplots(figsize=(12,12))\n",
    "\n",
    "PD_df['AE_predict'] = [\"normal\" if x < threshold else \"anomaly\" for x in error_df.reconstruction_error] #append into original dataframe\n",
    "\n",
    "anomaly = [x for x in mse_list if x >= threshold]\n",
    "idx_anomaly = [x for x in range(len(anomaly))]\n",
    "normal = [k for k in mse_list if k < threshold]\n",
    "idx_normal = [x for x in range(len(normal))]\n",
    "group = [(idx_anomaly, anomaly, \"anomaly\"), (idx_normal, normal, \"normal\")]\n",
    "\n",
    "# Plot the graph of reconstruction loss & we will able to identify the anomaly and normal class base on threshold value.\n",
    "for idx, pt, name in group:\n",
    "    aeax.plot(idx, pt, marker='o', ms=3.5, linestyle='', \n",
    "              label= \"Anomaly\" if name == \"anomaly\" else \"Normal\",\n",
    "             color = \"r\" if name == \"anomaly\" else \"g\")\n",
    "aeax.hlines(threshold, aeax.get_xlim()[0], aeax.get_xlim()[1], colors=\"b\", zorder=100, label='Threshold')\n",
    "aeax.set_title('Prediction  Result')\n",
    "aeax.set_xlabel('Index')\n",
    "aeax.set_ylabel('Reconstruction Loss')\n",
    "plt.legend()"
   ]
  },
  {
   "cell_type": "markdown",
   "metadata": {},
   "source": [
    "<h3>Results</h3>\n",
    "<p>Now that we already have the inference result from Autoencoder and K means algorithms. We will proceed to append both algorithm inference result into the original dataframe.</p>\n",
    "<p>Due to the dataset are unlabelled, we need more justifications towards the confident level of each model. Hence, what we can proceed to leverage the inference result of two model as below:</p>\n",
    "<ul>\n",
    "    <li><b>If either model inference are anomaly, then the equipment are is Potential risk category.</b></li>\n",
    "    <li><b>If both model inference are anomaly, then the equipment are is High risk category.</b></li>\n",
    "    <li><b>If both model inference are normal, then the equipment are is Low risk category.</b></li>\n",
    "</ul>\n",
    "<p>Base on the risk labels, we can proceed to have an physical test on the equipments to verify it's healhtiness level.</p>\n",
    "<p>We can prioritize the checking base on the risk label.</p>\n",
    "<ul>\n",
    "    <li>High risk ---> First priority</li>\n",
    "    <li>Potential risk ---> Second priority</li>\n",
    "    <li>Low risk ---> Low priority / Continue to work in production</li>\n",
    "</ul>"
   ]
  },
  {
   "cell_type": "code",
   "execution_count": 10,
   "metadata": {},
   "outputs": [
    {
     "ename": "NameError",
     "evalue": "name 'PD_df' is not defined",
     "output_type": "error",
     "traceback": [
      "\u001b[1;31m---------------------------------------------------------------------------\u001b[0m",
      "\u001b[1;31mNameError\u001b[0m                                 Traceback (most recent call last)",
      "\u001b[1;32m<ipython-input-10-5aaf55f2f989>\u001b[0m in \u001b[0;36m<module>\u001b[1;34m()\u001b[0m\n\u001b[0;32m      1\u001b[0m \u001b[1;31m# Calculate the quantity of both model inference result are same & not same.\u001b[0m\u001b[1;33m\u001b[0m\u001b[1;33m\u001b[0m\u001b[0m\n\u001b[1;32m----> 2\u001b[1;33m \u001b[0mPD_df\u001b[0m\u001b[1;33m[\u001b[0m\u001b[1;34m'is_match'\u001b[0m\u001b[1;33m]\u001b[0m \u001b[1;33m=\u001b[0m \u001b[1;33m[\u001b[0m\u001b[1;34m'true'\u001b[0m \u001b[1;32mif\u001b[0m \u001b[0mx\u001b[0m \u001b[1;33m==\u001b[0m \u001b[0my\u001b[0m \u001b[1;32melse\u001b[0m \u001b[1;34m'false'\u001b[0m \u001b[1;32mfor\u001b[0m \u001b[0mx\u001b[0m\u001b[1;33m,\u001b[0m\u001b[0my\u001b[0m \u001b[1;32min\u001b[0m \u001b[0mzip\u001b[0m\u001b[1;33m(\u001b[0m\u001b[0mPD_df\u001b[0m\u001b[1;33m[\u001b[0m\u001b[1;34m'kmeans_predict'\u001b[0m\u001b[1;33m]\u001b[0m\u001b[1;33m,\u001b[0m\u001b[0mPD_df\u001b[0m\u001b[1;33m[\u001b[0m\u001b[1;34m'AE_predict'\u001b[0m\u001b[1;33m]\u001b[0m\u001b[1;33m)\u001b[0m\u001b[1;33m]\u001b[0m\u001b[1;33m\u001b[0m\u001b[0m\n\u001b[0m\u001b[0;32m      3\u001b[0m \u001b[0mismatch\u001b[0m \u001b[1;33m=\u001b[0m \u001b[1;33m[\u001b[0m\u001b[0mx\u001b[0m \u001b[1;32mfor\u001b[0m \u001b[0mx\u001b[0m \u001b[1;32min\u001b[0m \u001b[0mPD_df\u001b[0m\u001b[1;33m[\u001b[0m\u001b[1;34m'is_match'\u001b[0m\u001b[1;33m]\u001b[0m \u001b[1;32mif\u001b[0m \u001b[0mx\u001b[0m \u001b[1;33m==\u001b[0m \u001b[1;34m'true'\u001b[0m\u001b[1;33m]\u001b[0m\u001b[1;33m\u001b[0m\u001b[0m\n\u001b[0;32m      4\u001b[0m \u001b[0mnotmatch\u001b[0m \u001b[1;33m=\u001b[0m \u001b[1;33m[\u001b[0m\u001b[0mx\u001b[0m \u001b[1;32mfor\u001b[0m \u001b[0mx\u001b[0m \u001b[1;32min\u001b[0m \u001b[0mPD_df\u001b[0m\u001b[1;33m[\u001b[0m\u001b[1;34m'is_match'\u001b[0m\u001b[1;33m]\u001b[0m \u001b[1;32mif\u001b[0m \u001b[0mx\u001b[0m \u001b[1;33m==\u001b[0m \u001b[1;34m'false'\u001b[0m\u001b[1;33m]\u001b[0m\u001b[1;33m\u001b[0m\u001b[0m\n\u001b[0;32m      5\u001b[0m \u001b[0mprint\u001b[0m\u001b[1;33m(\u001b[0m\u001b[1;34m\"len of match : \"\u001b[0m\u001b[1;33m,\u001b[0m \u001b[0mlen\u001b[0m\u001b[1;33m(\u001b[0m\u001b[0mismatch\u001b[0m\u001b[1;33m)\u001b[0m\u001b[1;33m,\u001b[0m \u001b[1;34m\" len of mismatch : \"\u001b[0m\u001b[1;33m,\u001b[0m \u001b[0mlen\u001b[0m\u001b[1;33m(\u001b[0m\u001b[0mnotmatch\u001b[0m\u001b[1;33m)\u001b[0m\u001b[1;33m)\u001b[0m\u001b[1;33m\u001b[0m\u001b[0m\n",
      "\u001b[1;31mNameError\u001b[0m: name 'PD_df' is not defined"
     ]
    }
   ],
   "source": [
    "# Calculate the quantity of both model inference result are same & not same.\n",
    "PD_df['is_match'] = ['true' if x == y else 'false' for x,y in zip(PD_df['kmeans_predict'],PD_df['AE_predict'])]\n",
    "ismatch = [x for x in PD_df['is_match'] if x == 'true']\n",
    "notmatch = [x for x in PD_df['is_match'] if x == 'false']\n",
    "print(\"len of match : \", len(ismatch), \" len of mismatch : \", len(notmatch))"
   ]
  },
  {
   "cell_type": "code",
   "execution_count": 11,
   "metadata": {},
   "outputs": [
    {
     "ename": "NameError",
     "evalue": "name 'PD_df' is not defined",
     "output_type": "error",
     "traceback": [
      "\u001b[1;31m---------------------------------------------------------------------------\u001b[0m",
      "\u001b[1;31mNameError\u001b[0m                                 Traceback (most recent call last)",
      "\u001b[1;32m<ipython-input-11-33531845ad52>\u001b[0m in \u001b[0;36m<module>\u001b[1;34m()\u001b[0m\n\u001b[0;32m      1\u001b[0m \u001b[1;31m# Assign risk label for each data points base of both model inference results\u001b[0m\u001b[1;33m\u001b[0m\u001b[1;33m\u001b[0m\u001b[0m\n\u001b[1;32m----> 2\u001b[1;33m \u001b[0mPD_df\u001b[0m\u001b[1;33m[\u001b[0m\u001b[1;34m'risk_label'\u001b[0m\u001b[1;33m]\u001b[0m \u001b[1;33m=\u001b[0m \u001b[1;33m[\u001b[0m\u001b[1;34m'High'\u001b[0m \u001b[1;32mif\u001b[0m \u001b[0mx\u001b[0m \u001b[1;33m==\u001b[0m \u001b[1;34m'anomaly'\u001b[0m \u001b[1;32mand\u001b[0m \u001b[0my\u001b[0m \u001b[1;33m==\u001b[0m \u001b[1;34m'anomaly'\u001b[0m \u001b[1;32melse\u001b[0m \u001b[1;34m'Potential'\u001b[0m \u001b[1;32mif\u001b[0m \u001b[0mx\u001b[0m \u001b[1;33m==\u001b[0m \u001b[1;34m'anomaly'\u001b[0m \u001b[1;32mor\u001b[0m \u001b[0my\u001b[0m \u001b[1;33m==\u001b[0m \u001b[1;34m'anomaly'\u001b[0m \u001b[1;32melse\u001b[0m \u001b[1;34m'Low'\u001b[0m \u001b[1;32mfor\u001b[0m \u001b[0mx\u001b[0m\u001b[1;33m,\u001b[0m\u001b[0my\u001b[0m \u001b[1;32min\u001b[0m \u001b[0mzip\u001b[0m\u001b[1;33m(\u001b[0m\u001b[0mPD_df\u001b[0m\u001b[1;33m[\u001b[0m\u001b[1;34m'kmeans_predict'\u001b[0m\u001b[1;33m]\u001b[0m\u001b[1;33m,\u001b[0m\u001b[0mPD_df\u001b[0m\u001b[1;33m[\u001b[0m\u001b[1;34m'AE_predict'\u001b[0m\u001b[1;33m]\u001b[0m\u001b[1;33m)\u001b[0m\u001b[1;33m]\u001b[0m\u001b[1;33m\u001b[0m\u001b[0m\n\u001b[0m\u001b[0;32m      3\u001b[0m \u001b[0mprint\u001b[0m\u001b[1;33m(\u001b[0m\u001b[0mPD_df\u001b[0m\u001b[1;33m)\u001b[0m\u001b[1;33m\u001b[0m\u001b[0m\n\u001b[0;32m      4\u001b[0m \u001b[0mPD_df\u001b[0m\u001b[1;33m.\u001b[0m\u001b[0mto_csv\u001b[0m\u001b[1;33m(\u001b[0m\u001b[1;34mr'result.csv'\u001b[0m\u001b[1;33m,\u001b[0m\u001b[0mindex\u001b[0m \u001b[1;33m=\u001b[0m \u001b[1;32mFalse\u001b[0m\u001b[1;33m)\u001b[0m\u001b[1;33m\u001b[0m\u001b[0m\n",
      "\u001b[1;31mNameError\u001b[0m: name 'PD_df' is not defined"
     ]
    }
   ],
   "source": [
    "# Assign risk label for each data points base of both model inference results\n",
    "PD_df['risk_label'] = ['High' if x == 'anomaly' and y == 'anomaly' else 'Potential' if x == 'anomaly' or y == 'anomaly' else 'Low' for x,y in zip(PD_df['kmeans_predict'],PD_df['AE_predict'])]\n",
    "print(PD_df)\n",
    "PD_df.to_csv(r'result.csv',index = False)"
   ]
  },
  {
   "cell_type": "code",
   "execution_count": null,
   "metadata": {},
   "outputs": [],
   "source": [
    "# Plot the quantity graph base on each risk labels\n",
    "high_risk = [x for x in PD_df['risk_label'] if x == 'High']\n",
    "potential_risk = [x for x in PD_df['risk_label'] if x == 'Potential']\n",
    "low_risk = [x for x in PD_df['risk_label'] if x == 'Low']\n",
    "\n",
    "quantity = [len(high_risk), len(potential_risk), len(low_risk)]\n",
    "risk_categories = ['High ' + str(len(high_risk)), 'Potential ' + str(len(potential_risk)), 'Low ' + str(len(low_risk))]\n",
    "\n",
    "group_plt = plt.figure()\n",
    "ax_plt = group_plt.add_axes([0,0,1,1])\n",
    "\n",
    "ax_plt.bar(risk_categories,quantity)\n",
    "ax_plt.get_children()[0].set_color('r')\n",
    "ax_plt.get_children()[1].set_color('yellow')\n",
    "ax_plt.get_children()[2].set_color('g')\n",
    "plt.show()"
   ]
  },
  {
   "cell_type": "markdown",
   "metadata": {},
   "source": [
    "<h3>Conclusion</h3>\n",
    "<p>Base on the data analysis technique & information provided by Mr.Leong, we get the insight for this dataset as below:</p>\n",
    "<ul><b>\n",
    "    <li>There are 3 clusters of equipment(without labels) that have similar patterns within each group, we can cluster each cluster using the K-means clustering algorithm.</li>\n",
    "    <li>The graph of K-means clustering shows that cluster 2 distributions are inconsistent.</li>\n",
    "    <li>The graph distribution for K-means & Autoencoder results are quite similar. This shows that both algorithms (ML & DL) are telling almost the same story based on the pattern inside the dataset provided.</li>\n",
    "    <li>cluster 2 (blue) is the group that has the most outliers.</li>\n",
    "    <li>The total 18 outliers are from cluster 2 (blue).</li>\n",
    "    <li>Total 44 out of 76 Potential risks are from cluster 2 as well.</li>\n",
    "    <li>Cluster 0 & 1 having more consistent behaviour compared to cluster 2.</li>\n",
    "</b></ul>"
   ]
  },
  {
   "cell_type": "markdown",
   "metadata": {},
   "source": [
    "<h3>Future Works</h3>\n",
    "<p>The analysis at this point is not the final solutions to predict for anomaly activities in equipments, the reason are as below:</p>\n",
    "<ul>\n",
    "    <li>The data point that provided are not exactly sufficient at this point</li>\n",
    "    <li>The inference result are not justify by any subject matter expert ME)</li>\n",
    "</ul>\n",
    "<p>Hence, belows are my proposal for furthur making the models(ML & DL) more robust in the productions line:</p>\n",
    "<ul>\n",
    "<li>First of all, more dataset/data points. No limit needed, as much as possible.</li>\n",
    "<li>Having an SME to validate the model inference result & provide labels for the dataset from time to time.</li> \n",
    "</ul>\n",
    "<p>With that means, we will have more labels to train on Autoencoder. The idea here is to let Autoencoder only learn the pattern of normal data point. Hence, when an abnormal data point comes, Autoencoder will generally have high reconstruct error value (because it never see such an distinctive data point).</p>"
   ]
  },
  {
   "cell_type": "code",
   "execution_count": null,
   "metadata": {},
   "outputs": [],
   "source": []
  }
 ],
 "metadata": {
  "kernelspec": {
   "display_name": "Python 3",
   "language": "python",
   "name": "python3"
  },
  "language_info": {
   "codemirror_mode": {
    "name": "ipython",
    "version": 3
   },
   "file_extension": ".py",
   "mimetype": "text/x-python",
   "name": "python",
   "nbconvert_exporter": "python",
   "pygments_lexer": "ipython3",
   "version": "3.6.5"
  }
 },
 "nbformat": 4,
 "nbformat_minor": 4
}
