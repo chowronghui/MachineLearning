{
 "cells": [
  {
   "cell_type": "code",
   "execution_count": 1,
   "metadata": {},
   "outputs": [
    {
     "data": {
      "text/plain": [
       "Date_Time        datetime64[ns]\n",
       "CO(GT)                  float64\n",
       "PT08.S1(CO)               int64\n",
       "NMHC(GT)                  int64\n",
       "C6H6(GT)                float64\n",
       "PT08.S2(NMHC)             int64\n",
       "NOx(GT)                   int64\n",
       "PT08.S3(NOx)              int64\n",
       "NO2(GT)                   int64\n",
       "PT08.S4(NO2)              int64\n",
       "PT08.S5(O3)               int64\n",
       "T                       float64\n",
       "RH                      float64\n",
       "AH                      float64\n",
       "dtype: object"
      ]
     },
     "execution_count": 1,
     "metadata": {},
     "output_type": "execute_result"
    }
   ],
   "source": [
    "# https://www.analyticsvidhya.com/blog/2018/09/multivariate-time-series-guide-forecasting-modeling-python-codes/\n",
    "#import required packages\n",
    "import pandas as pd\n",
    "import matplotlib.pyplot as plt\n",
    "%matplotlib inline\n",
    "\n",
    "#read the data\n",
    "# df = pd.read_csv(\"AirQualityUCI.csv\")\n",
    "df = pd.read_csv(\"AirQualityUCI1.csv\", parse_dates=[['Date', 'Time']])\n",
    "\n",
    "#check the dtypes\n",
    "df.dtypes"
   ]
  },
  {
   "cell_type": "code",
   "execution_count": 2,
   "metadata": {},
   "outputs": [],
   "source": [
    "df['Date_Time'] = pd.to_datetime(df.Date_Time , format = '%d/%m/%Y %H:%M:%S')\n",
    "data = df.drop(['Date_Time'], axis=1)\n",
    "data.index = df.Date_Time"
   ]
  },
  {
   "cell_type": "code",
   "execution_count": 3,
   "metadata": {},
   "outputs": [
    {
     "name": "stderr",
     "output_type": "stream",
     "text": [
      "C:\\ProgramData\\Anaconda3\\lib\\site-packages\\ipykernel_launcher.py:6: SettingWithCopyWarning: \n",
      "A value is trying to be set on a copy of a slice from a DataFrame\n",
      "\n",
      "See the caveats in the documentation: http://pandas.pydata.org/pandas-docs/stable/indexing.html#indexing-view-versus-copy\n",
      "  \n"
     ]
    },
    {
     "data": {
      "text/plain": [
       "array([1.78898435e-01, 1.57134377e-01, 1.18954137e-01, 1.06959373e-01,\n",
       "       9.46073557e-02, 7.07957006e-02, 6.01068434e-02, 3.50329354e-02,\n",
       "       3.15883669e-02, 1.22674586e-02, 2.57530260e-03, 7.45284097e-05])"
      ]
     },
     "execution_count": 3,
     "metadata": {},
     "output_type": "execute_result"
    }
   ],
   "source": [
    "#missing value treatment\n",
    "cols = data.columns\n",
    "for j in cols:\n",
    "    for i in range(0,len(data)):\n",
    "       if data[j][i] == -200:\n",
    "           data[j][i] = data[j][i-1]\n",
    "\n",
    "#checking stationarity\n",
    "from statsmodels.tsa.vector_ar.vecm import coint_johansen\n",
    "#since the test works for only 12 variables, I have randomly dropped\n",
    "#in the next iteration, I would drop another and check the eigenvalues\n",
    "johan_test_temp = data.drop([ 'CO(GT)'], axis=1)\n",
    "coint_johansen(johan_test_temp,-1,1).eig"
   ]
  },
  {
   "cell_type": "code",
   "execution_count": 4,
   "metadata": {},
   "outputs": [
    {
     "name": "stderr",
     "output_type": "stream",
     "text": [
      "C:\\ProgramData\\Anaconda3\\lib\\site-packages\\statsmodels\\tsa\\base\\tsa_model.py:225: ValueWarning: A date index has been provided, but it has no associated frequency information and so will be ignored when e.g. forecasting.\n",
      "  ' ignored when e.g. forecasting.', ValueWarning)\n"
     ]
    }
   ],
   "source": [
    "#creating the train and validation set\n",
    "train = data[:int(0.8*(len(data)))]\n",
    "valid = data[int(0.8*(len(data))):]\n",
    "\n",
    "#fit the model\n",
    "from statsmodels.tsa.vector_ar.var_model import VAR\n",
    "\n",
    "model = VAR(endog=train)\n",
    "model_fit = model.fit()\n",
    "\n",
    "# make prediction on validation\n",
    "prediction = model_fit.forecast(model_fit.y, steps=len(valid))"
   ]
  },
  {
   "cell_type": "code",
   "execution_count": 9,
   "metadata": {},
   "outputs": [
    {
     "name": "stdout",
     "output_type": "stream",
     "text": [
      "rmse value for CO(GT) is :  1.420578857136888\n",
      "rmse value for PT08.S1(CO) is :  207.5085346586845\n",
      "rmse value for NMHC(GT) is :  5.933350435673447\n",
      "rmse value for C6H6(GT) is :  7.216452913975654\n",
      "rmse value for PT08.S2(NMHC) is :  280.8235876455336\n",
      "rmse value for NOx(GT) is :  216.8821203438309\n",
      "rmse value for PT08.S3(NOx) is :  247.14794891174472\n",
      "rmse value for NO2(GT) is :  66.97486911409179\n",
      "rmse value for PT08.S4(NO2) is :  491.8979178585775\n",
      "rmse value for PT08.S5(O3) is :  449.1470603347469\n",
      "rmse value for T is :  10.754818832134179\n",
      "rmse value for RH is :  17.173164219187406\n",
      "rmse value for AH is :  0.5209713857455913\n"
     ]
    }
   ],
   "source": [
    "#converting predictions to dataframe\n",
    "pred = pd.DataFrame(index=range(0,len(prediction)),columns=[cols])\n",
    "for j in range(0,13):\n",
    "    for i in range(0, len(prediction)):\n",
    "       pred.iloc[i][j] = prediction[i][j]\n",
    "\n",
    "import numpy as np \n",
    "from sklearn.metrics import mean_squared_error\n",
    "\n",
    "#check rmse\n",
    "for i in cols:\n",
    "    print('rmse value for', i, 'is : ', np.sqrt(mean_squared_error(pred[i], valid[i])))"
   ]
  },
  {
   "cell_type": "code",
   "execution_count": 10,
   "metadata": {},
   "outputs": [
    {
     "name": "stderr",
     "output_type": "stream",
     "text": [
      "C:\\ProgramData\\Anaconda3\\lib\\site-packages\\statsmodels\\tsa\\base\\tsa_model.py:225: ValueWarning: A date index has been provided, but it has no associated frequency information and so will be ignored when e.g. forecasting.\n",
      "  ' ignored when e.g. forecasting.', ValueWarning)\n"
     ]
    },
    {
     "name": "stdout",
     "output_type": "stream",
     "text": [
      "[[2.33299697e+00 1.08513419e+03 2.80615080e+02 1.23632702e+01\n",
      "  1.05357764e+03 2.80662482e+02 6.61083679e+02 1.68278272e+02\n",
      "  1.15778550e+03 8.49851767e+02 2.73294054e+01 1.55977974e+01\n",
      "  5.15400974e-01]]\n"
     ]
    }
   ],
   "source": [
    "#make final predictions\n",
    "model = VAR(endog=data)\n",
    "model_fit = model.fit()\n",
    "yhat = model_fit.forecast(model_fit.y, steps=1)\n",
    "print(yhat)"
   ]
  },
  {
   "cell_type": "code",
   "execution_count": null,
   "metadata": {},
   "outputs": [],
   "source": []
  },
  {
   "cell_type": "code",
   "execution_count": null,
   "metadata": {},
   "outputs": [],
   "source": []
  }
 ],
 "metadata": {
  "kernelspec": {
   "display_name": "Python 3",
   "language": "python",
   "name": "python3"
  },
  "language_info": {
   "codemirror_mode": {
    "name": "ipython",
    "version": 3
   },
   "file_extension": ".py",
   "mimetype": "text/x-python",
   "name": "python",
   "nbconvert_exporter": "python",
   "pygments_lexer": "ipython3",
   "version": "3.6.5"
  }
 },
 "nbformat": 4,
 "nbformat_minor": 2
}
